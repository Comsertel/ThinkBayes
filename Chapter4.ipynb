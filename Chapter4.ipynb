{
 "cells": [
  {
   "cell_type": "code",
   "execution_count": 65,
   "id": "f19720e3",
   "metadata": {},
   "outputs": [],
   "source": [
    "from scipy.stats import binom\n",
    "import numpy as np\n",
    "\n",
    "from empiricaldist import Pmf\n",
    "\n",
    "import pandas as pd\n",
    "import matplotlib.pyplot as plt\n"
   ]
  },
  {
   "cell_type": "markdown",
   "id": "c5dd5be2",
   "metadata": {},
   "source": [
    "Uma moeda justa terá 50% de probabilidade de cair em um lado se você rodar duas vezes terá 4 outcomes possiveis (todos com 25%).\n",
    "\n",
    "* HH\n",
    "* HT\n",
    "* TH\n",
    "* TT\n",
    "\n",
    "Se pensarmos exclusivamente no H, temos três possibilidades: sair 0 (25%), sair 1(25%), sair 2 (50%)"
   ]
  },
  {
   "cell_type": "code",
   "execution_count": 44,
   "id": "0886db34",
   "metadata": {},
   "outputs": [
    {
     "data": {
      "text/plain": [
       "0.5"
      ]
     },
     "execution_count": 44,
     "metadata": {},
     "output_type": "execute_result"
    }
   ],
   "source": [
    "#Rodando 2 moedas qual é chance de conseguirmos 1 cara?\n",
    "n = 2\n",
    "p = 0.5\n",
    "k = 1\n",
    "\n",
    "binom.pmf(k,n,p)"
   ]
  },
  {
   "cell_type": "code",
   "execution_count": 46,
   "id": "738082f8",
   "metadata": {},
   "outputs": [
    {
     "name": "stdout",
     "output_type": "stream",
     "text": [
      "0:0.25\n",
      "1:0.5\n",
      "2:0.25\n"
     ]
    }
   ],
   "source": [
    "#Agora vamos passar 3k diferentes, a chance de tirar 0,1,2 carasss\n",
    "ks = np.arange(n+1)\n",
    "\n",
    "ps = binom.pmf(ks,n,p)\n",
    "\n",
    "for outcome, prob in zip(ks,ps):\n",
    "    print(f'{outcome}:{prob}')"
   ]
  },
  {
   "cell_type": "code",
   "execution_count": 53,
   "id": "d8a7ca85",
   "metadata": {},
   "outputs": [
    {
     "data": {
      "text/html": [
       "<div>\n",
       "<style scoped>\n",
       "    .dataframe tbody tr th:only-of-type {\n",
       "        vertical-align: middle;\n",
       "    }\n",
       "\n",
       "    .dataframe tbody tr th {\n",
       "        vertical-align: top;\n",
       "    }\n",
       "\n",
       "    .dataframe thead th {\n",
       "        text-align: right;\n",
       "    }\n",
       "</style>\n",
       "<table border=\"1\" class=\"dataframe\">\n",
       "  <thead>\n",
       "    <tr style=\"text-align: right;\">\n",
       "      <th></th>\n",
       "      <th>probs</th>\n",
       "    </tr>\n",
       "  </thead>\n",
       "  <tbody>\n",
       "    <tr>\n",
       "      <th>0</th>\n",
       "      <td>0.25</td>\n",
       "    </tr>\n",
       "    <tr>\n",
       "      <th>1</th>\n",
       "      <td>0.50</td>\n",
       "    </tr>\n",
       "    <tr>\n",
       "      <th>2</th>\n",
       "      <td>0.25</td>\n",
       "    </tr>\n",
       "  </tbody>\n",
       "</table>\n",
       "</div>"
      ],
      "text/plain": [
       "0    0.25\n",
       "1    0.50\n",
       "2    0.25\n",
       "Name: , dtype: float64"
      ]
     },
     "execution_count": 53,
     "metadata": {},
     "output_type": "execute_result"
    }
   ],
   "source": [
    "#Usando a biblioteca Probability Mass Function\n",
    "pmf_k = Pmf(ps,ks)\n",
    "pmf_k"
   ]
  },
  {
   "cell_type": "code",
   "execution_count": 74,
   "id": "0f62e315",
   "metadata": {},
   "outputs": [],
   "source": [
    "def make_binomial(n,p):\n",
    "    \"\"\"\"Make a binomial Pmf.\"\"\"\n",
    "    ks = np.arange(n+1)\n",
    "    ps = binom.pmf(ks,n,p)\n",
    "    return Pmf(ps,ks)"
   ]
  },
  {
   "cell_type": "markdown",
   "id": "5c47fa28",
   "metadata": {},
   "source": [
    "## Moeda viciada?\n",
    "When spun on edge 250 times, a Belgian one-euro coin came up heads 140 times and tails 110. “It looks very suspicious to me,” said Barry Blight, a statistics lecturer at the London School of Economics. “If the coin were unbiased, the chance of getting a result as extreme as that would be less than 7%.”\n",
    "\n",
    "But do these data give evidence that the coin is biased rather than fair?"
   ]
  },
  {
   "cell_type": "code",
   "execution_count": 57,
   "id": "307f57ed",
   "metadata": {},
   "outputs": [],
   "source": [
    "pmf_k = make_binomial(n=250, p=0.50)"
   ]
  },
  {
   "cell_type": "code",
   "execution_count": 68,
   "id": "98550abf",
   "metadata": {},
   "outputs": [
    {
     "data": {
      "image/png": "[encoded data removed]",
      "text/plain": [
       "<Figure size 432x288 with 1 Axes>"
      ]
     },
     "metadata": {
      "needs_background": "light"
     },
     "output_type": "display_data"
    }
   ],
   "source": [
    "pmf_k.plot.line()\n",
    "plt.title('Probability')\n",
    "plt.show()"
   ]
  },
  {
   "cell_type": "code",
   "execution_count": 70,
   "id": "a33c548e",
   "metadata": {},
   "outputs": [
    {
     "data": {
      "text/plain": [
       "125"
      ]
     },
     "execution_count": 70,
     "metadata": {},
     "output_type": "execute_result"
    }
   ],
   "source": [
    "#Resultado mais provavel\n",
    "pmf_k.max_prob()"
   ]
  },
  {
   "cell_type": "code",
   "execution_count": 72,
   "id": "e205dfd6",
   "metadata": {},
   "outputs": [
    {
     "data": {
      "text/plain": [
       "0.05041221314731537"
      ]
     },
     "execution_count": 72,
     "metadata": {},
     "output_type": "execute_result"
    }
   ],
   "source": [
    "#Chance do resultado mais provavel acontecer\n",
    "pmf_k[125]"
   ]
  },
  {
   "cell_type": "code",
   "execution_count": 73,
   "id": "2c71e5e0",
   "metadata": {},
   "outputs": [
    {
     "data": {
      "text/plain": [
       "0.008357181724917673"
      ]
     },
     "execution_count": 73,
     "metadata": {},
     "output_type": "execute_result"
    }
   ],
   "source": [
    "#Chance de rodar 140 caras\n",
    "pmf_k[140]"
   ]
  },
  {
   "cell_type": "code",
   "execution_count": null,
   "id": "19b0565f",
   "metadata": {},
   "outputs": [],
   "source": []
  }
 ],
 "metadata": {
  "kernelspec": {
   "display_name": "Python 3",
   "language": "python",
   "name": "python3"
  },
  "language_info": {
   "codemirror_mode": {
    "name": "ipython",
    "version": 3
   },
   "file_extension": ".py",
   "mimetype": "text/x-python",
   "name": "python",
   "nbconvert_exporter": "python",
   "pygments_lexer": "ipython3",
   "version": "3.8.8"
  }
 },
 "nbformat": 4,
 "nbformat_minor": 5
}
