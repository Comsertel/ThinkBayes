{
 "cells": [
  {
   "cell_type": "code",
   "execution_count": 2,
   "id": "f19720e3",
   "metadata": {},
   "outputs": [],
   "source": [
    "from scipy.stats import binom\n",
    "import numpy as np\n",
    "\n",
    "from empiricaldist import Pmf\n",
    "\n",
    "import pandas as pd\n",
    "import matplotlib.pyplot as plt\n"
   ]
  },
  {
   "cell_type": "markdown",
   "id": "c5dd5be2",
   "metadata": {},
   "source": [
    "Uma moeda justa terá 50% de probabilidade de cair em um lado se você rodar duas vezes terá 4 outcomes possiveis (todos com 25%).\n",
    "\n",
    "* HH\n",
    "* HT\n",
    "* TH\n",
    "* TT\n",
    "\n",
    "Se pensarmos exclusivamente no H, temos três possibilidades: sair 0 (25%), sair 1(25%), sair 2 (50%)"
   ]
  },
  {
   "cell_type": "code",
   "execution_count": 44,
   "id": "0886db34",
   "metadata": {},
   "outputs": [
    {
     "data": {
      "text/plain": [
       "0.5"
      ]
     },
     "execution_count": 44,
     "metadata": {},
     "output_type": "execute_result"
    }
   ],
   "source": [
    "#Rodando 2 moedas qual é chance de conseguirmos 1 cara?\n",
    "n = 2\n",
    "p = 0.5\n",
    "k = 1\n",
    "\n",
    "binom.pmf(k,n,p)"
   ]
  },
  {
   "cell_type": "code",
   "execution_count": 46,
   "id": "738082f8",
   "metadata": {},
   "outputs": [
    {
     "name": "stdout",
     "output_type": "stream",
     "text": [
      "0:0.25\n",
      "1:0.5\n",
      "2:0.25\n"
     ]
    }
   ],
   "source": [
    "#Agora vamos passar 3k diferentes, a chance de tirar 0,1,2 carasss\n",
    "ks = np.arange(n+1)\n",
    "\n",
    "ps = binom.pmf(ks,n,p)\n",
    "\n",
    "for outcome, prob in zip(ks,ps):\n",
    "    print(f'{outcome}:{prob}')"
   ]
  },
  {
   "cell_type": "code",
   "execution_count": 53,
   "id": "d8a7ca85",
   "metadata": {},
   "outputs": [
    {
     "data": {
      "text/html": [
       "<div>\n",
       "<style scoped>\n",
       "    .dataframe tbody tr th:only-of-type {\n",
       "        vertical-align: middle;\n",
       "    }\n",
       "\n",
       "    .dataframe tbody tr th {\n",
       "        vertical-align: top;\n",
       "    }\n",
       "\n",
       "    .dataframe thead th {\n",
       "        text-align: right;\n",
       "    }\n",
       "</style>\n",
       "<table border=\"1\" class=\"dataframe\">\n",
       "  <thead>\n",
       "    <tr style=\"text-align: right;\">\n",
       "      <th></th>\n",
       "      <th>probs</th>\n",
       "    </tr>\n",
       "  </thead>\n",
       "  <tbody>\n",
       "    <tr>\n",
       "      <th>0</th>\n",
       "      <td>0.25</td>\n",
       "    </tr>\n",
       "    <tr>\n",
       "      <th>1</th>\n",
       "      <td>0.50</td>\n",
       "    </tr>\n",
       "    <tr>\n",
       "      <th>2</th>\n",
       "      <td>0.25</td>\n",
       "    </tr>\n",
       "  </tbody>\n",
       "</table>\n",
       "</div>"
      ],
      "text/plain": [
       "0    0.25\n",
       "1    0.50\n",
       "2    0.25\n",
       "Name: , dtype: float64"
      ]
     },
     "execution_count": 53,
     "metadata": {},
     "output_type": "execute_result"
    }
   ],
   "source": [
    "#Usando a biblioteca Probability Mass Function\n",
    "pmf_k = Pmf(ps,ks)\n",
    "pmf_k"
   ]
  },
  {
   "cell_type": "code",
   "execution_count": 74,
   "id": "0f62e315",
   "metadata": {},
   "outputs": [],
   "source": [
    "def make_binomial(n,p):\n",
    "    \"\"\"\"Make a binomial Pmf.\"\"\"\n",
    "    ks = np.arange(n+1)\n",
    "    ps = binom.pmf(ks,n,p)\n",
    "    return Pmf(ps,ks)"
   ]
  },
  {
   "cell_type": "markdown",
   "id": "5c47fa28",
   "metadata": {},
   "source": [
    "## Moeda viciada?\n",
    "When spun on edge 250 times, a Belgian one-euro coin came up heads 140 times and tails 110. “It looks very suspicious to me,” said Barry Blight, a statistics lecturer at the London School of Economics. “If the coin were unbiased, the chance of getting a result as extreme as that would be less than 7%.”\n",
    "\n",
    "But do these data give evidence that the coin is biased rather than fair?"
   ]
  },
  {
   "cell_type": "code",
   "execution_count": 57,
   "id": "307f57ed",
   "metadata": {},
   "outputs": [],
   "source": [
    "pmf_k = make_binomial(n=250, p=0.50)"
   ]
  },
  {
   "cell_type": "code",
   "execution_count": 68,
   "id": "98550abf",
   "metadata": {},
   "outputs": [
    {
     "data": {
      "image/png": "[encoded data removed]",
      "text/plain": [
       "<Figure size 432x288 with 1 Axes>"
      ]
     },
     "metadata": {
      "needs_background": "light"
     },
     "output_type": "display_data"
    }
   ],
   "source": [
    "pmf_k.plot.line()\n",
    "plt.title('Probability')\n",
    "plt.show()"
   ]
  },
  {
   "cell_type": "code",
   "execution_count": 70,
   "id": "a33c548e",
   "metadata": {},
   "outputs": [
    {
     "data": {
      "text/plain": [
       "125"
      ]
     },
     "execution_count": 70,
     "metadata": {},
     "output_type": "execute_result"
    }
   ],
   "source": [
    "#Resultado mais provavel\n",
    "pmf_k.max_prob()"
   ]
  },
  {
   "cell_type": "code",
   "execution_count": 72,
   "id": "e205dfd6",
   "metadata": {},
   "outputs": [
    {
     "data": {
      "text/plain": [
       "0.05041221314731537"
      ]
     },
     "execution_count": 72,
     "metadata": {},
     "output_type": "execute_result"
    }
   ],
   "source": [
    "#Chance do resultado mais provavel acontecer\n",
    "pmf_k[125]"
   ]
  },
  {
   "cell_type": "code",
   "execution_count": 73,
   "id": "2c71e5e0",
   "metadata": {},
   "outputs": [
    {
     "data": {
      "text/plain": [
       "0.008357181724917673"
      ]
     },
     "execution_count": 73,
     "metadata": {},
     "output_type": "execute_result"
    }
   ],
   "source": [
    "#Chance de rodar 140 caras\n",
    "pmf_k[140]"
   ]
  },
  {
   "cell_type": "code",
   "execution_count": 78,
   "id": "19b0565f",
   "metadata": {},
   "outputs": [],
   "source": [
    "def prob_ge(pmf, threshold):\n",
    "    \"\"\"Probability of quantities greater than threshold\"\"\"\n",
    "    ge = (pmf.qs >= threshold)\n",
    "    total = pmf[ge].sum()\n",
    "    return total"
   ]
  },
  {
   "cell_type": "code",
   "execution_count": 85,
   "id": "f80ab52b",
   "metadata": {},
   "outputs": [
    {
     "data": {
      "text/plain": [
       "0.033210575620022706"
      ]
     },
     "execution_count": 85,
     "metadata": {},
     "output_type": "execute_result"
    }
   ],
   "source": [
    "#A porcentagem que está acima do threshol\n",
    "prob_ge(pmf_k, 140)"
   ]
  },
  {
   "cell_type": "code",
   "execution_count": 82,
   "id": "8aa67667",
   "metadata": {},
   "outputs": [
    {
     "data": {
      "text/plain": [
       "0.033210575620022706"
      ]
     },
     "execution_count": 82,
     "metadata": {},
     "output_type": "execute_result"
    }
   ],
   "source": [
    "#Já temos uma funçã nativa\n",
    "pmf_k.prob_ge(140)"
   ]
  },
  {
   "cell_type": "markdown",
   "id": "c111864b",
   "metadata": {},
   "source": [
    "Esse valor é abaixo do que doss 7% citado no enunciado, isso ocorre por que estamos olhando apenas uma cauda (a da direita) e o do enunciado soma as duas. Ou seja, todo resultado extremo."
   ]
  },
  {
   "cell_type": "code",
   "execution_count": 86,
   "id": "f3193e1c",
   "metadata": {},
   "outputs": [
    {
     "data": {
      "text/plain": [
       "0.033210575620022706"
      ]
     },
     "execution_count": 86,
     "metadata": {},
     "output_type": "execute_result"
    }
   ],
   "source": [
    "#Aqui computamos o outro lado\n",
    "pmf_k.prob_le(110)\n"
   ]
  },
  {
   "cell_type": "code",
   "execution_count": 88,
   "id": "d3056c42",
   "metadata": {},
   "outputs": [
    {
     "data": {
      "text/plain": [
       "0.07"
      ]
     },
     "execution_count": 88,
     "metadata": {},
     "output_type": "execute_result"
    }
   ],
   "source": [
    "round(pmf_k.prob_ge(140) + pmf_k.prob_le(110),2)\n"
   ]
  },
  {
   "cell_type": "raw",
   "id": "b228f1e3",
   "metadata": {},
   "source": [
    "Segundo teste"
   ]
  },
  {
   "cell_type": "code",
   "execution_count": 28,
   "id": "9f8b5bbc",
   "metadata": {},
   "outputs": [],
   "source": [
    "hypos = np.linspace(0, 1, 101) #de 0 a 100 \n",
    "prior = Pmf(1, hypos)\n",
    "\n",
    "likelihood_heads = hypos\n",
    "likelihood_tails = 1 - hypos #Simplesmente inverte a ordem \n",
    "\n",
    "likelihood = {\n",
    "    'H': likelihood_heads,\n",
    "    'T': likelihood_tails\n",
    "}\n",
    "\n",
    "dataset = 'H' * 140 + 'T' * 110\n"
   ]
  },
  {
   "cell_type": "code",
   "execution_count": 29,
   "id": "ecb9051d",
   "metadata": {},
   "outputs": [],
   "source": [
    "def update_euro(pmf, dataset):\n",
    "    \"\"\"Update pmf with a given sequence of H and T.\"\"\"\n",
    "    for data in dataset:\n",
    "        pmf *= likelihood[data]\n",
    "\n",
    "    pmf.normalize()"
   ]
  },
  {
   "cell_type": "code",
   "execution_count": 30,
   "id": "a844994b",
   "metadata": {},
   "outputs": [],
   "source": [
    "posterior = prior.copy()\n",
    "update_euro(posterior, dataset)"
   ]
  },
  {
   "cell_type": "code",
   "execution_count": null,
   "id": "89ddfab4",
   "metadata": {},
   "outputs": [],
   "source": []
  },
  {
   "cell_type": "code",
   "execution_count": 31,
   "id": "70ed6165",
   "metadata": {},
   "outputs": [
    {
     "data": {
      "image/png": "[encoded data removed]",
      "text/plain": [
       "<Figure size 432x288 with 1 Axes>"
      ]
     },
     "metadata": {
      "needs_background": "light"
     },
     "output_type": "display_data"
    }
   ],
   "source": [
    "posterior.plot.line()\n",
    "plt.title('Probability')\n",
    "plt.show()"
   ]
  },
  {
   "cell_type": "code",
   "execution_count": 100,
   "id": "b913f71b",
   "metadata": {},
   "outputs": [
    {
     "data": {
      "text/html": [
       "<div>\n",
       "<style scoped>\n",
       "    .dataframe tbody tr th:only-of-type {\n",
       "        vertical-align: middle;\n",
       "    }\n",
       "\n",
       "    .dataframe tbody tr th {\n",
       "        vertical-align: top;\n",
       "    }\n",
       "\n",
       "    .dataframe thead th {\n",
       "        text-align: right;\n",
       "    }\n",
       "</style>\n",
       "<table border=\"1\" class=\"dataframe\">\n",
       "  <thead>\n",
       "    <tr style=\"text-align: right;\">\n",
       "      <th></th>\n",
       "      <th>probs</th>\n",
       "    </tr>\n",
       "  </thead>\n",
       "  <tbody>\n",
       "    <tr>\n",
       "      <th>0.00</th>\n",
       "      <td>0.000000e+00</td>\n",
       "    </tr>\n",
       "    <tr>\n",
       "      <th>0.01</th>\n",
       "      <td>0.000000e+00</td>\n",
       "    </tr>\n",
       "    <tr>\n",
       "      <th>0.02</th>\n",
       "      <td>0.000000e+00</td>\n",
       "    </tr>\n",
       "    <tr>\n",
       "      <th>0.03</th>\n",
       "      <td>0.000000e+00</td>\n",
       "    </tr>\n",
       "    <tr>\n",
       "      <th>0.04</th>\n",
       "      <td>0.000000e+00</td>\n",
       "    </tr>\n",
       "    <tr>\n",
       "      <th>...</th>\n",
       "      <td>...</td>\n",
       "    </tr>\n",
       "    <tr>\n",
       "      <th>0.96</th>\n",
       "      <td>9.959143e-247</td>\n",
       "    </tr>\n",
       "    <tr>\n",
       "      <th>0.97</th>\n",
       "      <td>0.000000e+00</td>\n",
       "    </tr>\n",
       "    <tr>\n",
       "      <th>0.98</th>\n",
       "      <td>0.000000e+00</td>\n",
       "    </tr>\n",
       "    <tr>\n",
       "      <th>0.99</th>\n",
       "      <td>0.000000e+00</td>\n",
       "    </tr>\n",
       "    <tr>\n",
       "      <th>1.00</th>\n",
       "      <td>0.000000e+00</td>\n",
       "    </tr>\n",
       "  </tbody>\n",
       "</table>\n",
       "<p>101 rows × 1 columns</p>\n",
       "</div>"
      ],
      "text/plain": [
       "0.00     0.000000e+00\n",
       "0.01     0.000000e+00\n",
       "0.02     0.000000e+00\n",
       "0.03     0.000000e+00\n",
       "0.04     0.000000e+00\n",
       "            ...      \n",
       "0.96    9.959143e-247\n",
       "0.97     0.000000e+00\n",
       "0.98     0.000000e+00\n",
       "0.99     0.000000e+00\n",
       "1.00     0.000000e+00\n",
       "Name: , Length: 101, dtype: float64"
      ]
     },
     "execution_count": 100,
     "metadata": {},
     "output_type": "execute_result"
    }
   ],
   "source": []
  },
  {
   "cell_type": "code",
   "execution_count": null,
   "id": "a4bbefc6",
   "metadata": {},
   "outputs": [],
   "source": []
  }
 ],
 "metadata": {
  "kernelspec": {
   "display_name": "Python 3",
   "language": "python",
   "name": "python3"
  },
  "language_info": {
   "codemirror_mode": {
    "name": "ipython",
    "version": 3
   },
   "file_extension": ".py",
   "mimetype": "text/x-python",
   "name": "python",
   "nbconvert_exporter": "python",
   "pygments_lexer": "ipython3",
   "version": "3.8.8"
  }
 },
 "nbformat": 4,
 "nbformat_minor": 5
}
