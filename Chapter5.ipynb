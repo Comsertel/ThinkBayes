{
 "cells": [
  {
   "cell_type": "markdown",
   "id": "b072f50e",
   "metadata": {},
   "source": [
    "# Estimating Counts"
   ]
  },
  {
   "cell_type": "markdown",
   "id": "9717a6fc",
   "metadata": {},
   "source": [
    "A railroad numbers its locomotives in order 1..N. One day you see a locomotive with the number 60.<br> Estimate how many locomotives the railroad has."
   ]
  },
  {
   "cell_type": "code",
   "execution_count": 13,
   "id": "47de46b2",
   "metadata": {},
   "outputs": [],
   "source": [
    "import numpy as np\n",
    "from empiricaldist import Pmf\n",
    "\n",
    "import matplotlib.pyplot as plt"
   ]
  },
  {
   "cell_type": "code",
   "execution_count": 20,
   "id": "97b819af",
   "metadata": {},
   "outputs": [],
   "source": [
    "def plot_graph(prior,posterior):\n",
    "    plt.title(f'{posterior.shape[0] - 1} ')\n",
    "    if prior:\n",
    "        plt.plot(prior, label='Prior')\n",
    "    plt.plot(posterior, label='Posterior')\n",
    "    plt.legend()\n",
    "    plt.show()"
   ]
  },
  {
   "cell_type": "code",
   "execution_count": 9,
   "id": "74fad756",
   "metadata": {},
   "outputs": [],
   "source": [
    "hypos = np.arange(1,1001)\n",
    "prior = Pmf(1, hypos)"
   ]
  },
  {
   "cell_type": "code",
   "execution_count": 10,
   "id": "59a50069",
   "metadata": {},
   "outputs": [],
   "source": [
    "def update_train(pmf, data):\n",
    "    \"\"\"Update pmf based on new data.\"\"\"\n",
    "    hypos = pmf.qs\n",
    "    likelihood = 1 / hypos\n",
    "    impossible = (data > hypos)\n",
    "    likelihood[impossible] = 0\n",
    "    pmf *= likelihood\n",
    "    pmf.normalize()"
   ]
  },
  {
   "cell_type": "code",
   "execution_count": 11,
   "id": "21a4c94a",
   "metadata": {},
   "outputs": [],
   "source": [
    "data = 60\n",
    "posterior = prior.copy()\n",
    "update_train(posterior, data)"
   ]
  },
  {
   "cell_type": "code",
   "execution_count": 21,
   "id": "30d4346a",
   "metadata": {},
   "outputs": [
    {
     "data": {
      "image/png": "[encoded data removed]",
      "text/plain": [
       "<Figure size 432x288 with 1 Axes>"
      ]
     },
     "metadata": {
      "needs_background": "light"
     },
     "output_type": "display_data"
    }
   ],
   "source": [
    "plot_graph(None, posterior)"
   ]
  },
  {
   "cell_type": "code",
   "execution_count": null,
   "id": "71c07ec4",
   "metadata": {},
   "outputs": [],
   "source": []
  }
 ],
 "metadata": {
  "kernelspec": {
   "display_name": "Python 3",
   "language": "python",
   "name": "python3"
  },
  "language_info": {
   "codemirror_mode": {
    "name": "ipython",
    "version": 3
   },
   "file_extension": ".py",
   "mimetype": "text/x-python",
   "name": "python",
   "nbconvert_exporter": "python",
   "pygments_lexer": "ipython3",
   "version": "3.8.8"
  }
 },
 "nbformat": 4,
 "nbformat_minor": 5
}
