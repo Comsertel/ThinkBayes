{
 "cells": [
  {
   "cell_type": "code",
   "execution_count": 2,
   "id": "d0ee62a7",
   "metadata": {},
   "outputs": [],
   "source": [
    "import pandas as pd\n",
    "from matplotlib import pyplot as plt\n",
    "import seaborn as sns\n",
    "\n",
    "plt.rcParams[\"figure.figsize\"] = (30,5)"
   ]
  },
  {
   "cell_type": "code",
   "execution_count": 3,
   "id": "98dbbb75",
   "metadata": {},
   "outputs": [],
   "source": [
    "gss = pd.read_csv('gss_bayes.csv', index_col = 0)"
   ]
  },
  {
   "cell_type": "markdown",
   "id": "8c99c1bb",
   "metadata": {},
   "source": [
    "#### Proporção de banqueiros"
   ]
  },
  {
   "cell_type": "code",
   "execution_count": 4,
   "id": "0ee02709",
   "metadata": {},
   "outputs": [],
   "source": [
    "banker = (gss['indus10'] == 6870)"
   ]
  },
  {
   "cell_type": "code",
   "execution_count": 5,
   "id": "1b431a09",
   "metadata": {},
   "outputs": [
    {
     "data": {
      "text/plain": [
       "0.014769730168391155"
      ]
     },
     "execution_count": 5,
     "metadata": {},
     "output_type": "execute_result"
    }
   ],
   "source": [
    "banker.mean()  #Probabiliidade "
   ]
  },
  {
   "cell_type": "code",
   "execution_count": 6,
   "id": "38bec8be",
   "metadata": {},
   "outputs": [
    {
     "data": {
      "text/plain": [
       "0.014769730168391155"
      ]
     },
     "execution_count": 6,
     "metadata": {},
     "output_type": "execute_result"
    }
   ],
   "source": [
    "#Forma mais dificil, o sum pega o total de banqueiros\n",
    "banker.sum() / gss.shape[0]"
   ]
  },
  {
   "cell_type": "markdown",
   "id": "4c35dbd5",
   "metadata": {},
   "source": [
    "#### Proporção de mulheres"
   ]
  },
  {
   "cell_type": "code",
   "execution_count": 7,
   "id": "00c97099",
   "metadata": {},
   "outputs": [],
   "source": [
    "female = (gss['sex'] == 2)"
   ]
  },
  {
   "cell_type": "code",
   "execution_count": 8,
   "id": "f3879a65",
   "metadata": {},
   "outputs": [
    {
     "data": {
      "text/plain": [
       "0.5378575776019476"
      ]
     },
     "execution_count": 8,
     "metadata": {},
     "output_type": "execute_result"
    }
   ],
   "source": [
    "female.mean()"
   ]
  },
  {
   "cell_type": "markdown",
   "id": "93168e50",
   "metadata": {},
   "source": [
    "#### Proporção de Liberais"
   ]
  },
  {
   "cell_type": "code",
   "execution_count": 9,
   "id": "a112c4c2",
   "metadata": {},
   "outputs": [],
   "source": [
    "liberal = (gss['polviews'] <= 3)"
   ]
  },
  {
   "cell_type": "code",
   "execution_count": 10,
   "id": "43a0b251",
   "metadata": {},
   "outputs": [
    {
     "data": {
      "text/plain": [
       "0.27374721038750255"
      ]
     },
     "execution_count": 10,
     "metadata": {},
     "output_type": "execute_result"
    }
   ],
   "source": [
    "liberal.mean()"
   ]
  },
  {
   "cell_type": "markdown",
   "id": "0447fa5d",
   "metadata": {},
   "source": [
    "#### Proporção de Democrata"
   ]
  },
  {
   "cell_type": "code",
   "execution_count": 11,
   "id": "7728d802",
   "metadata": {},
   "outputs": [],
   "source": [
    "democrat = (gss['partyid'] <= 1)"
   ]
  },
  {
   "cell_type": "code",
   "execution_count": 12,
   "id": "566466b1",
   "metadata": {},
   "outputs": [
    {
     "data": {
      "text/plain": [
       "0.3662609048488537"
      ]
     },
     "execution_count": 12,
     "metadata": {},
     "output_type": "execute_result"
    }
   ],
   "source": [
    "democrat.mean()"
   ]
  },
  {
   "cell_type": "markdown",
   "id": "14671ab7",
   "metadata": {},
   "source": [
    "### Conjuction"
   ]
  },
  {
   "cell_type": "code",
   "execution_count": 13,
   "id": "fb24e4cd",
   "metadata": {},
   "outputs": [
    {
     "data": {
      "text/plain": [
       "0.011381618989653074"
      ]
     },
     "execution_count": 13,
     "metadata": {},
     "output_type": "execute_result"
    }
   ],
   "source": [
    "(female & banker).mean()"
   ]
  },
  {
   "cell_type": "markdown",
   "id": "24fe54c3",
   "metadata": {},
   "source": [
    "### Conditional Probability"
   ]
  },
  {
   "cell_type": "code",
   "execution_count": 14,
   "id": "336daf3f",
   "metadata": {},
   "outputs": [
    {
     "data": {
      "text/plain": [
       "0.7706043956043956"
      ]
     },
     "execution_count": 14,
     "metadata": {},
     "output_type": "execute_result"
    }
   ],
   "source": [
    "female[banker].mean()"
   ]
  },
  {
   "cell_type": "code",
   "execution_count": 15,
   "id": "6fa3942f",
   "metadata": {},
   "outputs": [
    {
     "data": {
      "text/plain": [
       "0.17307692307692307"
      ]
     },
     "execution_count": 15,
     "metadata": {},
     "output_type": "execute_result"
    }
   ],
   "source": [
    "(liberal & female)[banker].mean()"
   ]
  },
  {
   "cell_type": "markdown",
   "id": "9f173450",
   "metadata": {},
   "source": [
    "### Teorema 1"
   ]
  },
  {
   "cell_type": "code",
   "execution_count": 16,
   "id": "f5d99ba0",
   "metadata": {},
   "outputs": [
    {
     "data": {
      "text/plain": [
       "0.7706043956043956"
      ]
     },
     "execution_count": 16,
     "metadata": {},
     "output_type": "execute_result"
    }
   ],
   "source": [
    "female[banker].mean()"
   ]
  },
  {
   "cell_type": "code",
   "execution_count": 17,
   "id": "e5d7e0d2",
   "metadata": {},
   "outputs": [
    {
     "data": {
      "text/plain": [
       "0.7706043956043956"
      ]
     },
     "execution_count": 17,
     "metadata": {},
     "output_type": "execute_result"
    }
   ],
   "source": [
    "(female & banker).mean() / banker.mean()"
   ]
  },
  {
   "cell_type": "markdown",
   "id": "51456897",
   "metadata": {},
   "source": [
    "### Teorema 2"
   ]
  },
  {
   "cell_type": "code",
   "execution_count": 18,
   "id": "502ae0d7",
   "metadata": {},
   "outputs": [
    {
     "data": {
      "text/plain": [
       "0.011381618989653074"
      ]
     },
     "execution_count": 18,
     "metadata": {},
     "output_type": "execute_result"
    }
   ],
   "source": [
    "(female & banker).mean()"
   ]
  },
  {
   "cell_type": "code",
   "execution_count": 19,
   "id": "0faeefd5",
   "metadata": {},
   "outputs": [
    {
     "data": {
      "text/plain": [
       "0.011381618989653074"
      ]
     },
     "execution_count": 19,
     "metadata": {},
     "output_type": "execute_result"
    }
   ],
   "source": [
    "(banker).mean() * female[banker].mean()"
   ]
  },
  {
   "cell_type": "markdown",
   "id": "163d1e99",
   "metadata": {},
   "source": [
    "### Teorema 3"
   ]
  },
  {
   "cell_type": "code",
   "execution_count": 26,
   "id": "54f7d29f",
   "metadata": {},
   "outputs": [
    {
     "data": {
      "text/plain": [
       "0.7706043956043956"
      ]
     },
     "execution_count": 26,
     "metadata": {},
     "output_type": "execute_result"
    }
   ],
   "source": [
    "female[banker].mean()"
   ]
  },
  {
   "cell_type": "code",
   "execution_count": 25,
   "id": "d7d2d725",
   "metadata": {},
   "outputs": [
    {
     "data": {
      "text/plain": [
       "0.39220569234997205"
      ]
     },
     "execution_count": 25,
     "metadata": {},
     "output_type": "execute_result"
    }
   ],
   "source": [
    "(liberal.mean() * banker[female].mean())/ banker.mean()"
   ]
  },
  {
   "cell_type": "markdown",
   "id": "409403e6",
   "metadata": {},
   "source": [
    "### Ex 1-1"
   ]
  },
  {
   "cell_type": "code",
   "execution_count": 28,
   "id": "ab4aa0f0",
   "metadata": {},
   "outputs": [
    {
     "data": {
      "text/plain": [
       "0.011381618989653074"
      ]
     },
     "execution_count": 28,
     "metadata": {},
     "output_type": "execute_result"
    }
   ],
   "source": [
    "(female & banker).mean()"
   ]
  },
  {
   "cell_type": "code",
   "execution_count": 29,
   "id": "133efad1",
   "metadata": {},
   "outputs": [
    {
     "data": {
      "text/plain": [
       "0.002556299452221546"
      ]
     },
     "execution_count": 29,
     "metadata": {},
     "output_type": "execute_result"
    }
   ],
   "source": [
    "(female & banker & liberal).mean()"
   ]
  },
  {
   "cell_type": "code",
   "execution_count": 30,
   "id": "ed0cbff4",
   "metadata": {},
   "outputs": [
    {
     "data": {
      "text/plain": [
       "0.0012375735443294787"
      ]
     },
     "execution_count": 30,
     "metadata": {},
     "output_type": "execute_result"
    }
   ],
   "source": [
    "(female & banker & liberal & democrat).mean()"
   ]
  },
  {
   "cell_type": "markdown",
   "id": "bcfe0687",
   "metadata": {},
   "source": [
    "### Ex 1-2"
   ]
  },
  {
   "cell_type": "code",
   "execution_count": 32,
   "id": "9f98df59",
   "metadata": {},
   "outputs": [
    {
     "data": {
      "text/plain": [
       "0.3891320002215698"
      ]
     },
     "execution_count": 32,
     "metadata": {},
     "output_type": "execute_result"
    }
   ],
   "source": [
    "liberal[democrat].mean()"
   ]
  },
  {
   "cell_type": "code",
   "execution_count": 39,
   "id": "cdc14f11",
   "metadata": {},
   "outputs": [
    {
     "data": {
      "text/plain": [
       "0.5206403320240125"
      ]
     },
     "execution_count": 39,
     "metadata": {},
     "output_type": "execute_result"
    }
   ],
   "source": [
    "democrat[liberal].mean()"
   ]
  },
  {
   "cell_type": "markdown",
   "id": "f1e153bb",
   "metadata": {},
   "source": [
    "### Ex 1-3"
   ]
  },
  {
   "cell_type": "code",
   "execution_count": 40,
   "id": "dfd2e8de",
   "metadata": {},
   "outputs": [
    {
     "data": {
      "text/plain": [
       "0.19435991073240008"
      ]
     },
     "execution_count": 40,
     "metadata": {},
     "output_type": "execute_result"
    }
   ],
   "source": [
    "young = (gss['age'] < 30)\n",
    "young.mean()"
   ]
  },
  {
   "cell_type": "code",
   "execution_count": 41,
   "id": "11fc9f2a",
   "metadata": {},
   "outputs": [
    {
     "data": {
      "text/plain": [
       "0.17328058429701765"
      ]
     },
     "execution_count": 41,
     "metadata": {},
     "output_type": "execute_result"
    }
   ],
   "source": [
    "old = (gss['age'] >= 65)\n",
    "old.mean()"
   ]
  },
  {
   "cell_type": "code",
   "execution_count": 43,
   "id": "a3f861f2",
   "metadata": {},
   "outputs": [
    {
     "data": {
      "text/plain": [
       "0.3419354838709677"
      ]
     },
     "execution_count": 43,
     "metadata": {},
     "output_type": "execute_result"
    }
   ],
   "source": [
    "conservative = (gss['polviews'] >= 5)\n",
    "conservative.mean()"
   ]
  },
  {
   "cell_type": "code",
   "execution_count": 45,
   "id": "99edf5aa",
   "metadata": {},
   "outputs": [
    {
     "data": {
      "text/plain": [
       "0.06579427875836884"
      ]
     },
     "execution_count": 45,
     "metadata": {},
     "output_type": "execute_result"
    }
   ],
   "source": [
    "(young & liberal).mean()"
   ]
  },
  {
   "cell_type": "code",
   "execution_count": 47,
   "id": "986724a6",
   "metadata": {},
   "outputs": [
    {
     "data": {
      "text/plain": [
       "0.338517745302714"
      ]
     },
     "execution_count": 47,
     "metadata": {},
     "output_type": "execute_result"
    }
   ],
   "source": [
    "liberal[young].mean()"
   ]
  },
  {
   "cell_type": "code",
   "execution_count": 49,
   "id": "522760ef",
   "metadata": {},
   "outputs": [
    {
     "data": {
      "text/plain": [
       "0.06701156421180766"
      ]
     },
     "execution_count": 49,
     "metadata": {},
     "output_type": "execute_result"
    }
   ],
   "source": [
    "(old & conservative).mean()"
   ]
  },
  {
   "cell_type": "code",
   "execution_count": 50,
   "id": "38889830",
   "metadata": {},
   "outputs": [
    {
     "data": {
      "text/plain": [
       "0.19597721609113564"
      ]
     },
     "execution_count": 50,
     "metadata": {},
     "output_type": "execute_result"
    }
   ],
   "source": [
    "old[conservative].mean()"
   ]
  },
  {
   "cell_type": "code",
   "execution_count": null,
   "id": "740217be",
   "metadata": {},
   "outputs": [],
   "source": []
  }
 ],
 "metadata": {
  "kernelspec": {
   "display_name": "Python 3",
   "language": "python",
   "name": "python3"
  },
  "language_info": {
   "codemirror_mode": {
    "name": "ipython",
    "version": 3
   },
   "file_extension": ".py",
   "mimetype": "text/x-python",
   "name": "python",
   "nbconvert_exporter": "python",
   "pygments_lexer": "ipython3",
   "version": "3.8.8"
  }
 },
 "nbformat": 4,
 "nbformat_minor": 5
}
