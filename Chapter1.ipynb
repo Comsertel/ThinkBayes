{
 "cells": [
  {
   "cell_type": "code",
   "execution_count": 1,
   "id": "d0ee62a7",
   "metadata": {},
   "outputs": [],
   "source": [
    "import pandas as pd\n",
    "from matplotlib import pyplot as plt\n",
    "import seaborn as sns\n",
    "\n",
    "plt.rcParams[\"figure.figsize\"] = (30,5)"
   ]
  },
  {
   "cell_type": "code",
   "execution_count": 2,
   "id": "98dbbb75",
   "metadata": {},
   "outputs": [],
   "source": [
    "gss = pd.read_csv('gss_bayes.csv', index_col = 0)"
   ]
  },
  {
   "cell_type": "markdown",
   "id": "8c99c1bb",
   "metadata": {},
   "source": [
    "#### Proporção de banqueiros"
   ]
  },
  {
   "cell_type": "code",
   "execution_count": 3,
   "id": "0ee02709",
   "metadata": {},
   "outputs": [],
   "source": [
    "banker = (gss['indus10'] == 6870)"
   ]
  },
  {
   "cell_type": "code",
   "execution_count": 4,
   "id": "1b431a09",
   "metadata": {},
   "outputs": [
    {
     "data": {
      "text/plain": [
       "0.014769730168391155"
      ]
     },
     "execution_count": 4,
     "metadata": {},
     "output_type": "execute_result"
    }
   ],
   "source": [
    "banker.mean()  #Probabiliidade "
   ]
  },
  {
   "cell_type": "code",
   "execution_count": 6,
   "id": "38bec8be",
   "metadata": {},
   "outputs": [
    {
     "data": {
      "text/plain": [
       "0.014769730168391155"
      ]
     },
     "execution_count": 6,
     "metadata": {},
     "output_type": "execute_result"
    }
   ],
   "source": [
    "#Forma mais dificil, o sum pega o total de banqueiros\n",
    "banker.sum() / gss.shape[0]"
   ]
  },
  {
   "cell_type": "markdown",
   "id": "4c35dbd5",
   "metadata": {},
   "source": [
    "#### Proporção de mulheres"
   ]
  },
  {
   "cell_type": "code",
   "execution_count": 7,
   "id": "00c97099",
   "metadata": {},
   "outputs": [],
   "source": [
    "female = (gss['sex'] == 2)"
   ]
  },
  {
   "cell_type": "code",
   "execution_count": 8,
   "id": "f3879a65",
   "metadata": {},
   "outputs": [
    {
     "data": {
      "text/plain": [
       "0.5378575776019476"
      ]
     },
     "execution_count": 8,
     "metadata": {},
     "output_type": "execute_result"
    }
   ],
   "source": [
    "female.mean()"
   ]
  },
  {
   "cell_type": "markdown",
   "id": "93168e50",
   "metadata": {},
   "source": [
    "#### Proporção de Liberais"
   ]
  },
  {
   "cell_type": "code",
   "execution_count": 9,
   "id": "a112c4c2",
   "metadata": {},
   "outputs": [],
   "source": [
    "liberal = (gss['polviews'] <= 3)"
   ]
  },
  {
   "cell_type": "code",
   "execution_count": 10,
   "id": "43a0b251",
   "metadata": {},
   "outputs": [
    {
     "data": {
      "text/plain": [
       "0.27374721038750255"
      ]
     },
     "execution_count": 10,
     "metadata": {},
     "output_type": "execute_result"
    }
   ],
   "source": [
    "liberal.mean()"
   ]
  },
  {
   "cell_type": "markdown",
   "id": "0447fa5d",
   "metadata": {},
   "source": [
    "#### Proporção de Democrata"
   ]
  },
  {
   "cell_type": "code",
   "execution_count": 11,
   "id": "7728d802",
   "metadata": {},
   "outputs": [],
   "source": [
    "democrat = (gss['partyid'] <= 1)"
   ]
  },
  {
   "cell_type": "code",
   "execution_count": 12,
   "id": "566466b1",
   "metadata": {},
   "outputs": [
    {
     "data": {
      "text/plain": [
       "0.3662609048488537"
      ]
     },
     "execution_count": 12,
     "metadata": {},
     "output_type": "execute_result"
    }
   ],
   "source": [
    "democrat.mean()"
   ]
  },
  {
   "cell_type": "markdown",
   "id": "14671ab7",
   "metadata": {},
   "source": [
    "### Conjuction"
   ]
  },
  {
   "cell_type": "code",
   "execution_count": 13,
   "id": "fb24e4cd",
   "metadata": {},
   "outputs": [
    {
     "data": {
      "text/plain": [
       "0.011381618989653074"
      ]
     },
     "execution_count": 13,
     "metadata": {},
     "output_type": "execute_result"
    }
   ],
   "source": [
    "(female & banker).mean()"
   ]
  },
  {
   "cell_type": "markdown",
   "id": "24fe54c3",
   "metadata": {},
   "source": [
    "### Conditional Probability"
   ]
  },
  {
   "cell_type": "code",
   "execution_count": 14,
   "id": "336daf3f",
   "metadata": {},
   "outputs": [
    {
     "data": {
      "text/plain": [
       "0.7706043956043956"
      ]
     },
     "execution_count": 14,
     "metadata": {},
     "output_type": "execute_result"
    }
   ],
   "source": [
    "female[banker].mean()"
   ]
  },
  {
   "cell_type": "code",
   "execution_count": 15,
   "id": "6fa3942f",
   "metadata": {},
   "outputs": [
    {
     "data": {
      "text/plain": [
       "0.17307692307692307"
      ]
     },
     "execution_count": 15,
     "metadata": {},
     "output_type": "execute_result"
    }
   ],
   "source": [
    "(liberal & female)[banker].mean()"
   ]
  },
  {
   "cell_type": "markdown",
   "id": "9f173450",
   "metadata": {},
   "source": [
    "### Teorema 1"
   ]
  },
  {
   "cell_type": "code",
   "execution_count": 16,
   "id": "f5d99ba0",
   "metadata": {},
   "outputs": [
    {
     "data": {
      "text/plain": [
       "0.7706043956043956"
      ]
     },
     "execution_count": 16,
     "metadata": {},
     "output_type": "execute_result"
    }
   ],
   "source": [
    "female[banker].mean()"
   ]
  },
  {
   "cell_type": "code",
   "execution_count": 17,
   "id": "e5d7e0d2",
   "metadata": {},
   "outputs": [
    {
     "data": {
      "text/plain": [
       "0.7706043956043956"
      ]
     },
     "execution_count": 17,
     "metadata": {},
     "output_type": "execute_result"
    }
   ],
   "source": [
    "(female & banker).mean() / banker.mean()"
   ]
  },
  {
   "cell_type": "markdown",
   "id": "51456897",
   "metadata": {},
   "source": [
    "### Teorema 2"
   ]
  },
  {
   "cell_type": "code",
   "execution_count": 18,
   "id": "502ae0d7",
   "metadata": {},
   "outputs": [
    {
     "data": {
      "text/plain": [
       "0.011381618989653074"
      ]
     },
     "execution_count": 18,
     "metadata": {},
     "output_type": "execute_result"
    }
   ],
   "source": [
    "(female & banker).mean()"
   ]
  },
  {
   "cell_type": "code",
   "execution_count": 19,
   "id": "0faeefd5",
   "metadata": {},
   "outputs": [
    {
     "data": {
      "text/plain": [
       "0.011381618989653074"
      ]
     },
     "execution_count": 19,
     "metadata": {},
     "output_type": "execute_result"
    }
   ],
   "source": [
    "(banker).mean() * female[banker].mean()"
   ]
  },
  {
   "cell_type": "markdown",
   "id": "163d1e99",
   "metadata": {},
   "source": [
    "### Teorema 3"
   ]
  },
  {
   "cell_type": "code",
   "execution_count": 26,
   "id": "54f7d29f",
   "metadata": {},
   "outputs": [
    {
     "data": {
      "text/plain": [
       "0.7706043956043956"
      ]
     },
     "execution_count": 26,
     "metadata": {},
     "output_type": "execute_result"
    }
   ],
   "source": [
    "female[banker].mean()"
   ]
  },
  {
   "cell_type": "code",
   "execution_count": 25,
   "id": "d7d2d725",
   "metadata": {},
   "outputs": [
    {
     "data": {
      "text/plain": [
       "0.39220569234997205"
      ]
     },
     "execution_count": 25,
     "metadata": {},
     "output_type": "execute_result"
    }
   ],
   "source": [
    "(liberal.mean() * banker[female].mean())/ banker.mean()"
   ]
  },
  {
   "cell_type": "markdown",
   "id": "409403e6",
   "metadata": {},
   "source": [
    "### Ex 1-1"
   ]
  },
  {
   "cell_type": "code",
   "execution_count": 28,
   "id": "ab4aa0f0",
   "metadata": {},
   "outputs": [
    {
     "data": {
      "text/plain": [
       "0.011381618989653074"
      ]
     },
     "execution_count": 28,
     "metadata": {},
     "output_type": "execute_result"
    }
   ],
   "source": [
    "(female & banker).mean()"
   ]
  },
  {
   "cell_type": "code",
   "execution_count": 29,
   "id": "133efad1",
   "metadata": {},
   "outputs": [
    {
     "data": {
      "text/plain": [
       "0.002556299452221546"
      ]
     },
     "execution_count": 29,
     "metadata": {},
     "output_type": "execute_result"
    }
   ],
   "source": [
    "(female & banker & liberal).mean()"
   ]
  },
  {
   "cell_type": "code",
   "execution_count": 30,
   "id": "ed0cbff4",
   "metadata": {},
   "outputs": [
    {
     "data": {
      "text/plain": [
       "0.0012375735443294787"
      ]
     },
     "execution_count": 30,
     "metadata": {},
     "output_type": "execute_result"
    }
   ],
   "source": [
    "(female & banker & liberal & democrat).mean()"
   ]
  },
  {
   "cell_type": "markdown",
   "id": "bcfe0687",
   "metadata": {},
   "source": [
    "### Ex 1-2"
   ]
  },
  {
   "cell_type": "code",
   "execution_count": 32,
   "id": "9f98df59",
   "metadata": {},
   "outputs": [
    {
     "data": {
      "text/plain": [
       "0.3891320002215698"
      ]
     },
     "execution_count": 32,
     "metadata": {},
     "output_type": "execute_result"
    }
   ],
   "source": [
    "liberal[democrat].mean()"
   ]
  },
  {
   "cell_type": "code",
   "execution_count": 39,
   "id": "cdc14f11",
   "metadata": {},
   "outputs": [
    {
     "data": {
      "text/plain": [
       "0.5206403320240125"
      ]
     },
     "execution_count": 39,
     "metadata": {},
     "output_type": "execute_result"
    }
   ],
   "source": [
    "democrat[liberal].mean()"
   ]
  },
  {
   "cell_type": "markdown",
   "id": "f1e153bb",
   "metadata": {},
   "source": [
    "### Ex 1-3"
   ]
  },
  {
   "cell_type": "code",
   "execution_count": 40,
   "id": "dfd2e8de",
   "metadata": {},
   "outputs": [
    {
     "data": {
      "text/plain": [
       "0.19435991073240008"
      ]
     },
     "execution_count": 40,
     "metadata": {},
     "output_type": "execute_result"
    }
   ],
   "source": [
    "young = (gss['age'] < 30)\n",
    "young.mean()"
   ]
  },
  {
   "cell_type": "code",
   "execution_count": 41,
   "id": "11fc9f2a",
   "metadata": {},
   "outputs": [
    {
     "data": {
      "text/plain": [
       "0.17328058429701765"
      ]
     },
     "execution_count": 41,
     "metadata": {},
     "output_type": "execute_result"
    }
   ],
   "source": [
    "old = (gss['age'] >= 65)\n",
    "old.mean()"
   ]
  },
  {
   "cell_type": "code",
   "execution_count": 43,
   "id": "a3f861f2",
   "metadata": {},
   "outputs": [
    {
     "data": {
      "text/plain": [
       "0.3419354838709677"
      ]
     },
     "execution_count": 43,
     "metadata": {},
     "output_type": "execute_result"
    }
   ],
   "source": [
    "conservative = (gss['polviews'] >= 5)\n",
    "conservative.mean()"
   ]
  },
  {
   "cell_type": "code",
   "execution_count": 45,
   "id": "99edf5aa",
   "metadata": {},
   "outputs": [
    {
     "data": {
      "text/plain": [
       "0.06579427875836884"
      ]
     },
     "execution_count": 45,
     "metadata": {},
     "output_type": "execute_result"
    }
   ],
   "source": [
    "(young & liberal).mean()"
   ]
  },
  {
   "cell_type": "code",
   "execution_count": 47,
   "id": "986724a6",
   "metadata": {},
   "outputs": [
    {
     "data": {
      "text/plain": [
       "0.338517745302714"
      ]
     },
     "execution_count": 47,
     "metadata": {},
     "output_type": "execute_result"
    }
   ],
   "source": [
    "liberal[young].mean()"
   ]
  },
  {
   "cell_type": "code",
   "execution_count": 49,
   "id": "522760ef",
   "metadata": {},
   "outputs": [
    {
     "data": {
      "text/plain": [
       "0.06701156421180766"
      ]
     },
     "execution_count": 49,
     "metadata": {},
     "output_type": "execute_result"
    }
   ],
   "source": [
    "(old & conservative).mean()"
   ]
  },
  {
   "cell_type": "code",
   "execution_count": 50,
   "id": "38889830",
   "metadata": {},
   "outputs": [
    {
     "data": {
      "text/plain": [
       "0.19597721609113564"
      ]
     },
     "execution_count": 50,
     "metadata": {},
     "output_type": "execute_result"
    }
   ],
   "source": [
    "old[conservative].mean()"
   ]
  },
  {
   "cell_type": "code",
   "execution_count": null,
   "id": "740217be",
   "metadata": {},
   "outputs": [],
   "source": []
  },
  {
   "cell_type": "markdown",
   "id": "31837160",
   "metadata": {},
   "source": [
    "### StatsQuest Exemple\n",
    "https://www.youtube.com/watch?v=_IgyaD7vOOA&ab_channel=StatQuestwithJoshStarmer"
   ]
  },
  {
   "cell_type": "markdown",
   "id": "dc584c24",
   "metadata": {},
   "source": []
  },
  {
   "cell_type": "code",
   "execution_count": 5,
   "id": "c1a01b13",
   "metadata": {},
   "outputs": [
    {
     "data": {
      "text/html": [
       "<div>\n",
       "<style scoped>\n",
       "    .dataframe tbody tr th:only-of-type {\n",
       "        vertical-align: middle;\n",
       "    }\n",
       "\n",
       "    .dataframe tbody tr th {\n",
       "        vertical-align: top;\n",
       "    }\n",
       "\n",
       "    .dataframe thead th {\n",
       "        text-align: right;\n",
       "    }\n",
       "</style>\n",
       "<table border=\"1\" class=\"dataframe\">\n",
       "  <thead>\n",
       "    <tr style=\"text-align: right;\">\n",
       "      <th></th>\n",
       "      <th>candy</th>\n",
       "      <th>soda</th>\n",
       "    </tr>\n",
       "  </thead>\n",
       "  <tbody>\n",
       "    <tr>\n",
       "      <th>0</th>\n",
       "      <td>1</td>\n",
       "      <td>0</td>\n",
       "    </tr>\n",
       "    <tr>\n",
       "      <th>1</th>\n",
       "      <td>1</td>\n",
       "      <td>0</td>\n",
       "    </tr>\n",
       "    <tr>\n",
       "      <th>2</th>\n",
       "      <td>1</td>\n",
       "      <td>0</td>\n",
       "    </tr>\n",
       "    <tr>\n",
       "      <th>3</th>\n",
       "      <td>1</td>\n",
       "      <td>0</td>\n",
       "    </tr>\n",
       "    <tr>\n",
       "      <th>4</th>\n",
       "      <td>1</td>\n",
       "      <td>1</td>\n",
       "    </tr>\n",
       "    <tr>\n",
       "      <th>5</th>\n",
       "      <td>1</td>\n",
       "      <td>1</td>\n",
       "    </tr>\n",
       "    <tr>\n",
       "      <th>6</th>\n",
       "      <td>0</td>\n",
       "      <td>1</td>\n",
       "    </tr>\n",
       "    <tr>\n",
       "      <th>7</th>\n",
       "      <td>0</td>\n",
       "      <td>1</td>\n",
       "    </tr>\n",
       "    <tr>\n",
       "      <th>8</th>\n",
       "      <td>0</td>\n",
       "      <td>1</td>\n",
       "    </tr>\n",
       "    <tr>\n",
       "      <th>9</th>\n",
       "      <td>0</td>\n",
       "      <td>1</td>\n",
       "    </tr>\n",
       "    <tr>\n",
       "      <th>10</th>\n",
       "      <td>0</td>\n",
       "      <td>1</td>\n",
       "    </tr>\n",
       "    <tr>\n",
       "      <th>11</th>\n",
       "      <td>0</td>\n",
       "      <td>0</td>\n",
       "    </tr>\n",
       "    <tr>\n",
       "      <th>12</th>\n",
       "      <td>0</td>\n",
       "      <td>0</td>\n",
       "    </tr>\n",
       "    <tr>\n",
       "      <th>13</th>\n",
       "      <td>0</td>\n",
       "      <td>0</td>\n",
       "    </tr>\n",
       "  </tbody>\n",
       "</table>\n",
       "</div>"
      ],
      "text/plain": [
       "    candy  soda\n",
       "0       1     0\n",
       "1       1     0\n",
       "2       1     0\n",
       "3       1     0\n",
       "4       1     1\n",
       "5       1     1\n",
       "6       0     1\n",
       "7       0     1\n",
       "8       0     1\n",
       "9       0     1\n",
       "10      0     1\n",
       "11      0     0\n",
       "12      0     0\n",
       "13      0     0"
      ]
     },
     "execution_count": 5,
     "metadata": {},
     "output_type": "execute_result"
    }
   ],
   "source": [
    "candy = [1,1,1,1,1,1,0,0,0,0,0,0,0,0]\n",
    "soda =  [0,0,0,0,1,1,1,1,1,1,1,0,0,0]\n",
    "dicto = {'candy':candy,'soda':soda}\n",
    "\n",
    "df2 = pd.DataFrame(dicto)\n",
    "df2"
   ]
  },
  {
   "cell_type": "code",
   "execution_count": 6,
   "id": "8f375da1",
   "metadata": {},
   "outputs": [
    {
     "data": {
      "text/html": [
       "<div>\n",
       "<style scoped>\n",
       "    .dataframe tbody tr th:only-of-type {\n",
       "        vertical-align: middle;\n",
       "    }\n",
       "\n",
       "    .dataframe tbody tr th {\n",
       "        vertical-align: top;\n",
       "    }\n",
       "\n",
       "    .dataframe thead th {\n",
       "        text-align: right;\n",
       "    }\n",
       "</style>\n",
       "<table border=\"1\" class=\"dataframe\">\n",
       "  <thead>\n",
       "    <tr style=\"text-align: right;\">\n",
       "      <th></th>\n",
       "      <th>Loves Candy</th>\n",
       "      <th>Don't Loves Candy</th>\n",
       "    </tr>\n",
       "  </thead>\n",
       "  <tbody>\n",
       "    <tr>\n",
       "      <th>Loves Soda</th>\n",
       "      <td>2</td>\n",
       "      <td>5</td>\n",
       "    </tr>\n",
       "    <tr>\n",
       "      <th>Don't Loves Soda</th>\n",
       "      <td>4</td>\n",
       "      <td>3</td>\n",
       "    </tr>\n",
       "  </tbody>\n",
       "</table>\n",
       "</div>"
      ],
      "text/plain": [
       "                  Loves Candy  Don't Loves Candy\n",
       "Loves Soda                  2                  5\n",
       "Don't Loves Soda            4                  3"
      ]
     },
     "execution_count": 6,
     "metadata": {},
     "output_type": "execute_result"
    }
   ],
   "source": [
    "#Contingency table\n",
    "temp = pd.crosstab(df2.soda, df2.candy)\n",
    "temp.sort_index(ascending=False, axis=0, inplace=True)\n",
    "temp.sort_index(ascending=False, axis=1, inplace=True)\n",
    "\n",
    "temp.index = 'Loves Soda', \"Don't Loves Soda\"\n",
    "temp.columns = 'Loves Candy', \"Don't Loves Candy\"\n",
    "\n",
    "#temp['Total'] = temp.sum(axis=1)\n",
    "#temp.loc['Total'] = temp.sum(axis=0)\n",
    "temp.round(2)"
   ]
  },
  {
   "cell_type": "code",
   "execution_count": 7,
   "id": "c90f1cec",
   "metadata": {},
   "outputs": [
    {
     "data": {
      "text/html": [
       "<div>\n",
       "<style scoped>\n",
       "    .dataframe tbody tr th:only-of-type {\n",
       "        vertical-align: middle;\n",
       "    }\n",
       "\n",
       "    .dataframe tbody tr th {\n",
       "        vertical-align: top;\n",
       "    }\n",
       "\n",
       "    .dataframe thead th {\n",
       "        text-align: right;\n",
       "    }\n",
       "</style>\n",
       "<table border=\"1\" class=\"dataframe\">\n",
       "  <thead>\n",
       "    <tr style=\"text-align: right;\">\n",
       "      <th></th>\n",
       "      <th>Loves Candy</th>\n",
       "      <th>Don't Loves Candy</th>\n",
       "      <th>Total</th>\n",
       "    </tr>\n",
       "  </thead>\n",
       "  <tbody>\n",
       "    <tr>\n",
       "      <th>Loves Soda</th>\n",
       "      <td>0.14</td>\n",
       "      <td>0.36</td>\n",
       "      <td>0.5</td>\n",
       "    </tr>\n",
       "    <tr>\n",
       "      <th>Don't Loves Soda</th>\n",
       "      <td>0.29</td>\n",
       "      <td>0.21</td>\n",
       "      <td>0.5</td>\n",
       "    </tr>\n",
       "    <tr>\n",
       "      <th>Total</th>\n",
       "      <td>0.43</td>\n",
       "      <td>0.57</td>\n",
       "      <td>1.0</td>\n",
       "    </tr>\n",
       "  </tbody>\n",
       "</table>\n",
       "</div>"
      ],
      "text/plain": [
       "                  Loves Candy  Don't Loves Candy  Total\n",
       "Loves Soda               0.14               0.36    0.5\n",
       "Don't Loves Soda         0.29               0.21    0.5\n",
       "Total                    0.43               0.57    1.0"
      ]
     },
     "execution_count": 7,
     "metadata": {},
     "output_type": "execute_result"
    }
   ],
   "source": [
    "temp = pd.crosstab(df2.soda, df2.candy, normalize=True)\n",
    "temp.sort_index(ascending=False, axis=0, inplace=True)\n",
    "temp.sort_index(ascending=False, axis=1, inplace=True)\n",
    "\n",
    "temp.index = 'Loves Soda', \"Don't Loves Soda\"\n",
    "temp.columns = 'Loves Candy', \"Don't Loves Candy\"\n",
    "\n",
    "temp['Total'] = temp.sum(axis=1)\n",
    "temp.loc['Total'] = temp.sum(axis=0)\n",
    "temp.round(2)"
   ]
  },
  {
   "cell_type": "code",
   "execution_count": 8,
   "id": "c02df0e6",
   "metadata": {},
   "outputs": [
    {
     "data": {
      "text/plain": [
       "0.43"
      ]
     },
     "execution_count": 8,
     "metadata": {},
     "output_type": "execute_result"
    }
   ],
   "source": [
    "#Qual é a chance dele gostar de doce\n",
    "round(df2.candy.mean(),2)"
   ]
  },
  {
   "cell_type": "code",
   "execution_count": 9,
   "id": "0cbac829",
   "metadata": {},
   "outputs": [
    {
     "data": {
      "text/plain": [
       "0.5"
      ]
     },
     "execution_count": 9,
     "metadata": {},
     "output_type": "execute_result"
    }
   ],
   "source": [
    "#Qual a chance dele gostar de soda\n",
    "round(df2.soda.mean(),2)"
   ]
  },
  {
   "cell_type": "code",
   "execution_count": 5,
   "id": "4aab43f4",
   "metadata": {},
   "outputs": [
    {
     "data": {
      "text/plain": [
       "0.14"
      ]
     },
     "execution_count": 5,
     "metadata": {},
     "output_type": "execute_result"
    }
   ],
   "source": [
    "#Qual a chance dele gostar dos dois\n",
    "round((df2.candy & df2.soda).mean(),2)"
   ]
  },
  {
   "cell_type": "code",
   "execution_count": 25,
   "id": "5f9c6b6a",
   "metadata": {},
   "outputs": [
    {
     "data": {
      "text/plain": [
       "0.79"
      ]
     },
     "execution_count": 25,
     "metadata": {},
     "output_type": "execute_result"
    }
   ],
   "source": [
    "#Qual a chance dele gostar de um ou outro?\n",
    "round((df2.candy | df2.soda).mean(),2)"
   ]
  },
  {
   "cell_type": "code",
   "execution_count": 117,
   "id": "770cb4f2",
   "metadata": {},
   "outputs": [
    {
     "data": {
      "text/plain": [
       "0.21"
      ]
     },
     "execution_count": 117,
     "metadata": {},
     "output_type": "execute_result"
    }
   ],
   "source": [
    "#Qual a chance dele gostar de nenhum?\n",
    "round(1 - (df2.candy | df2.soda).mean(),2)"
   ]
  },
  {
   "cell_type": "code",
   "execution_count": 123,
   "id": "fc9353ba",
   "metadata": {},
   "outputs": [
    {
     "data": {
      "text/plain": [
       "0.29"
      ]
     },
     "execution_count": 123,
     "metadata": {},
     "output_type": "execute_result"
    }
   ],
   "source": [
    "#Qual a chance dele gostar de doce, dado que ele gosta de soda\n",
    "round(df2[df2.soda == 1].candy.mean(),2)"
   ]
  },
  {
   "cell_type": "code",
   "execution_count": 125,
   "id": "2bed21d8",
   "metadata": {},
   "outputs": [
    {
     "data": {
      "text/plain": [
       "0.71"
      ]
     },
     "execution_count": 125,
     "metadata": {},
     "output_type": "execute_result"
    }
   ],
   "source": [
    "#Qual a chance dele não gostar de doce, dado que ele gosta de soda\n",
    "round(1 - df2[df2.soda == 1].candy.mean(),2)"
   ]
  },
  {
   "cell_type": "code",
   "execution_count": 10,
   "id": "4c7014e6",
   "metadata": {},
   "outputs": [
    {
     "data": {
      "text/plain": [
       "0.67"
      ]
     },
     "execution_count": 10,
     "metadata": {},
     "output_type": "execute_result"
    }
   ],
   "source": [
    "#Qual a chance dele não gostar de soda, dado que ele gosta de doce\n",
    "round(1 - df2[df2.candy == 1].soda.mean(),2)"
   ]
  },
  {
   "cell_type": "code",
   "execution_count": null,
   "id": "ac343751",
   "metadata": {},
   "outputs": [],
   "source": []
  }
 ],
 "metadata": {
  "kernelspec": {
   "display_name": "Python 3",
   "language": "python",
   "name": "python3"
  },
  "language_info": {
   "codemirror_mode": {
    "name": "ipython",
    "version": 3
   },
   "file_extension": ".py",
   "mimetype": "text/x-python",
   "name": "python",
   "nbconvert_exporter": "python",
   "pygments_lexer": "ipython3",
   "version": "3.8.8"
  }
 },
 "nbformat": 4,
 "nbformat_minor": 5
}
