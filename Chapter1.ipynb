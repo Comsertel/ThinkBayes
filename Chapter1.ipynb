{
 "cells": [
  {
   "cell_type": "code",
   "execution_count": 1,
   "id": "d0ee62a7",
   "metadata": {},
   "outputs": [],
   "source": [
    "import pandas as pd\n",
    "from matplotlib import pyplot as plt\n",
    "import seaborn as sns\n",
    "\n",
    "plt.rcParams[\"figure.figsize\"] = (30,5)"
   ]
  },
  {
   "cell_type": "code",
   "execution_count": 2,
   "id": "98dbbb75",
   "metadata": {},
   "outputs": [],
   "source": [
    "gss = pd.read_csv('gss_bayes.csv', index_col = 0)"
   ]
  },
  {
   "cell_type": "markdown",
   "id": "8c99c1bb",
   "metadata": {},
   "source": [
    "#### Proporção de banqueiros"
   ]
  },
  {
   "cell_type": "code",
   "execution_count": 33,
   "id": "0ee02709",
   "metadata": {},
   "outputs": [],
   "source": [
    "banker = (gss['indus10'] == 6870)"
   ]
  },
  {
   "cell_type": "code",
   "execution_count": 34,
   "id": "1b431a09",
   "metadata": {},
   "outputs": [
    {
     "data": {
      "text/plain": [
       "0.014769730168391155"
      ]
     },
     "execution_count": 34,
     "metadata": {},
     "output_type": "execute_result"
    }
   ],
   "source": [
    "banker.mean()  #Probabiliidade "
   ]
  },
  {
   "cell_type": "code",
   "execution_count": 35,
   "id": "38bec8be",
   "metadata": {},
   "outputs": [
    {
     "data": {
      "text/plain": [
       "0.014769730168391155"
      ]
     },
     "execution_count": 35,
     "metadata": {},
     "output_type": "execute_result"
    }
   ],
   "source": [
    "#Forma mais dificil, o sum pega o total de banqueiros\n",
    "banker.sum() / gss.shape[0]"
   ]
  },
  {
   "cell_type": "markdown",
   "id": "4c35dbd5",
   "metadata": {},
   "source": [
    "#### Proporção de mulheres"
   ]
  },
  {
   "cell_type": "code",
   "execution_count": 13,
   "id": "00c97099",
   "metadata": {},
   "outputs": [],
   "source": [
    "female = (gss['sex'] == 2)"
   ]
  },
  {
   "cell_type": "code",
   "execution_count": 15,
   "id": "f3879a65",
   "metadata": {},
   "outputs": [
    {
     "data": {
      "text/plain": [
       "0.5378575776019476"
      ]
     },
     "execution_count": 15,
     "metadata": {},
     "output_type": "execute_result"
    }
   ],
   "source": [
    "female.mean()"
   ]
  },
  {
   "cell_type": "markdown",
   "id": "93168e50",
   "metadata": {},
   "source": [
    "#### Proporção de Liberais"
   ]
  },
  {
   "cell_type": "code",
   "execution_count": 23,
   "id": "a112c4c2",
   "metadata": {},
   "outputs": [],
   "source": [
    "liberal = (gss['polviews'] <= 3)"
   ]
  },
  {
   "cell_type": "code",
   "execution_count": 24,
   "id": "43a0b251",
   "metadata": {},
   "outputs": [
    {
     "data": {
      "text/plain": [
       "0.27374721038750255"
      ]
     },
     "execution_count": 24,
     "metadata": {},
     "output_type": "execute_result"
    }
   ],
   "source": [
    "liberal.mean()"
   ]
  },
  {
   "cell_type": "markdown",
   "id": "0447fa5d",
   "metadata": {},
   "source": [
    "#### Proporção de Democrata"
   ]
  },
  {
   "cell_type": "code",
   "execution_count": 25,
   "id": "7728d802",
   "metadata": {},
   "outputs": [],
   "source": [
    "democrat = (gss['partyid'] <= 1)"
   ]
  },
  {
   "cell_type": "code",
   "execution_count": 26,
   "id": "566466b1",
   "metadata": {},
   "outputs": [
    {
     "data": {
      "text/plain": [
       "0.3662609048488537"
      ]
     },
     "execution_count": 26,
     "metadata": {},
     "output_type": "execute_result"
    }
   ],
   "source": [
    "democrat.mean()"
   ]
  },
  {
   "cell_type": "markdown",
   "id": "14671ab7",
   "metadata": {},
   "source": [
    "### Conjuction"
   ]
  },
  {
   "cell_type": "code",
   "execution_count": 36,
   "id": "fb24e4cd",
   "metadata": {},
   "outputs": [
    {
     "data": {
      "text/plain": [
       "0.011381618989653074"
      ]
     },
     "execution_count": 36,
     "metadata": {},
     "output_type": "execute_result"
    }
   ],
   "source": [
    "(female & banker).mean()"
   ]
  },
  {
   "cell_type": "markdown",
   "id": "24fe54c3",
   "metadata": {},
   "source": [
    "### Conditional Probability"
   ]
  },
  {
   "cell_type": "code",
   "execution_count": 42,
   "id": "336daf3f",
   "metadata": {},
   "outputs": [
    {
     "data": {
      "text/plain": [
       "0.7706043956043956"
      ]
     },
     "execution_count": 42,
     "metadata": {},
     "output_type": "execute_result"
    }
   ],
   "source": [
    "female[banker].mean()"
   ]
  },
  {
   "cell_type": "code",
   "execution_count": 39,
   "id": "6fa3942f",
   "metadata": {},
   "outputs": [
    {
     "data": {
      "text/plain": [
       "0.17307692307692307"
      ]
     },
     "execution_count": 39,
     "metadata": {},
     "output_type": "execute_result"
    }
   ],
   "source": [
    "(liberal & female)[banker].mean()"
   ]
  },
  {
   "cell_type": "markdown",
   "id": "9f173450",
   "metadata": {},
   "source": [
    "### Teorema 1"
   ]
  },
  {
   "cell_type": "code",
   "execution_count": 43,
   "id": "f5d99ba0",
   "metadata": {},
   "outputs": [
    {
     "data": {
      "text/plain": [
       "0.7706043956043956"
      ]
     },
     "execution_count": 43,
     "metadata": {},
     "output_type": "execute_result"
    }
   ],
   "source": [
    "female[banker].mean()"
   ]
  },
  {
   "cell_type": "code",
   "execution_count": 45,
   "id": "e5d7e0d2",
   "metadata": {},
   "outputs": [
    {
     "data": {
      "text/plain": [
       "0.7706043956043956"
      ]
     },
     "execution_count": 45,
     "metadata": {},
     "output_type": "execute_result"
    }
   ],
   "source": [
    "(female & banker).mean() / banker.mean()"
   ]
  },
  {
   "cell_type": "markdown",
   "id": "51456897",
   "metadata": {},
   "source": [
    "### Teorema 2"
   ]
  },
  {
   "cell_type": "code",
   "execution_count": 46,
   "id": "502ae0d7",
   "metadata": {},
   "outputs": [
    {
     "data": {
      "text/plain": [
       "0.011381618989653074"
      ]
     },
     "execution_count": 46,
     "metadata": {},
     "output_type": "execute_result"
    }
   ],
   "source": [
    "(female & banker).mean()"
   ]
  },
  {
   "cell_type": "code",
   "execution_count": 47,
   "id": "0faeefd5",
   "metadata": {},
   "outputs": [
    {
     "data": {
      "text/plain": [
       "0.011381618989653074"
      ]
     },
     "execution_count": 47,
     "metadata": {},
     "output_type": "execute_result"
    }
   ],
   "source": [
    "(banker).mean() * female[banker].mean()"
   ]
  },
  {
   "cell_type": "markdown",
   "id": "163d1e99",
   "metadata": {},
   "source": [
    "### Teorema 3"
   ]
  },
  {
   "cell_type": "code",
   "execution_count": null,
   "id": "54f7d29f",
   "metadata": {},
   "outputs": [],
   "source": []
  }
 ],
 "metadata": {
  "kernelspec": {
   "display_name": "Python 3",
   "language": "python",
   "name": "python3"
  },
  "language_info": {
   "codemirror_mode": {
    "name": "ipython",
    "version": 3
   },
   "file_extension": ".py",
   "mimetype": "text/x-python",
   "name": "python",
   "nbconvert_exporter": "python",
   "pygments_lexer": "ipython3",
   "version": "3.8.8"
  }
 },
 "nbformat": 4,
 "nbformat_minor": 5
}
