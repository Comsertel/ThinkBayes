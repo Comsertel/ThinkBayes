{
 "cells": [
  {
   "cell_type": "markdown",
   "id": "d7460b65",
   "metadata": {},
   "source": [
    "# Distribuições"
   ]
  },
  {
   "cell_type": "markdown",
   "id": "ab2a276d",
   "metadata": {},
   "source": [
    "Pmf = Probability mass function, a vantagem de caclular assim é que ele é bem mais escalavel que os casos anteriores.\n",
    "\n",
    "Distribuições: Um conjunto de outcomes e sua probabilidade de ocorrer.\n",
    "\n"
   ]
  },
  {
   "cell_type": "code",
   "execution_count": 3,
   "id": "0b06853b",
   "metadata": {},
   "outputs": [],
   "source": [
    "from empiricaldist  import Pmf\n",
    "import pandas as pd\n",
    "import numpy as np\n",
    "\n",
    "import matplotlib.pyplot as plt"
   ]
  },
  {
   "cell_type": "markdown",
   "id": "18aef07c",
   "metadata": {},
   "source": [
    "#### Criando um Pmf de um flip de moeda na mão"
   ]
  },
  {
   "cell_type": "code",
   "execution_count": 2,
   "id": "3885ec7e",
   "metadata": {},
   "outputs": [
    {
     "data": {
      "text/html": [
       "<div>\n",
       "<style scoped>\n",
       "    .dataframe tbody tr th:only-of-type {\n",
       "        vertical-align: middle;\n",
       "    }\n",
       "\n",
       "    .dataframe tbody tr th {\n",
       "        vertical-align: top;\n",
       "    }\n",
       "\n",
       "    .dataframe thead th {\n",
       "        text-align: right;\n",
       "    }\n",
       "</style>\n",
       "<table border=\"1\" class=\"dataframe\">\n",
       "  <thead>\n",
       "    <tr style=\"text-align: right;\">\n",
       "      <th></th>\n",
       "      <th>probs</th>\n",
       "    </tr>\n",
       "  </thead>\n",
       "  <tbody>\n",
       "    <tr>\n",
       "      <th>heads</th>\n",
       "      <td>0.5</td>\n",
       "    </tr>\n",
       "    <tr>\n",
       "      <th>tails</th>\n",
       "      <td>0.5</td>\n",
       "    </tr>\n",
       "  </tbody>\n",
       "</table>\n",
       "</div>"
      ],
      "text/plain": [
       "heads    0.5\n",
       "tails    0.5\n",
       "Name: , dtype: float64"
      ]
     },
     "execution_count": 2,
     "metadata": {},
     "output_type": "execute_result"
    }
   ],
   "source": [
    "coin = Pmf()\n",
    "coin['heads'] = 0.5\n",
    "coin['tails'] = 1/2\n",
    "coin"
   ]
  },
  {
   "cell_type": "markdown",
   "id": "01294395",
   "metadata": {},
   "source": [
    "#### Criando um Pmf de um dado de 6 lados e depois de 20"
   ]
  },
  {
   "cell_type": "code",
   "execution_count": 33,
   "id": "47c4c306",
   "metadata": {},
   "outputs": [
    {
     "data": {
      "text/html": [
       "<div>\n",
       "<style scoped>\n",
       "    .dataframe tbody tr th:only-of-type {\n",
       "        vertical-align: middle;\n",
       "    }\n",
       "\n",
       "    .dataframe tbody tr th {\n",
       "        vertical-align: top;\n",
       "    }\n",
       "\n",
       "    .dataframe thead th {\n",
       "        text-align: right;\n",
       "    }\n",
       "</style>\n",
       "<table border=\"1\" class=\"dataframe\">\n",
       "  <thead>\n",
       "    <tr style=\"text-align: right;\">\n",
       "      <th></th>\n",
       "      <th>probs</th>\n",
       "    </tr>\n",
       "  </thead>\n",
       "  <tbody>\n",
       "    <tr>\n",
       "      <th>1</th>\n",
       "      <td>0.166667</td>\n",
       "    </tr>\n",
       "    <tr>\n",
       "      <th>2</th>\n",
       "      <td>0.166667</td>\n",
       "    </tr>\n",
       "    <tr>\n",
       "      <th>3</th>\n",
       "      <td>0.166667</td>\n",
       "    </tr>\n",
       "    <tr>\n",
       "      <th>4</th>\n",
       "      <td>0.166667</td>\n",
       "    </tr>\n",
       "    <tr>\n",
       "      <th>5</th>\n",
       "      <td>0.166667</td>\n",
       "    </tr>\n",
       "    <tr>\n",
       "      <th>6</th>\n",
       "      <td>0.166667</td>\n",
       "    </tr>\n",
       "  </tbody>\n",
       "</table>\n",
       "</div>"
      ],
      "text/plain": [
       "1    0.166667\n",
       "2    0.166667\n",
       "3    0.166667\n",
       "4    0.166667\n",
       "5    0.166667\n",
       "6    0.166667\n",
       "Name: , dtype: float64"
      ]
     },
     "execution_count": 33,
     "metadata": {},
     "output_type": "execute_result"
    }
   ],
   "source": [
    "d6 = Pmf.from_seq([1,2,3,4,5,6])\n",
    "d6"
   ]
  },
  {
   "cell_type": "code",
   "execution_count": 34,
   "id": "75d441f9",
   "metadata": {},
   "outputs": [
    {
     "data": {
      "text/plain": [
       "0.3333333333333333"
      ]
     },
     "execution_count": 34,
     "metadata": {},
     "output_type": "execute_result"
    }
   ],
   "source": [
    "#A chance de acertar no Eldrith normal\n",
    "d6([5,6]).sum()"
   ]
  },
  {
   "cell_type": "code",
   "execution_count": 35,
   "id": "81c4c559",
   "metadata": {},
   "outputs": [
    {
     "data": {
      "text/plain": [
       "0.5"
      ]
     },
     "execution_count": 35,
     "metadata": {},
     "output_type": "execute_result"
    }
   ],
   "source": [
    "#A chance de acertar sendo abençoado\n",
    "d6([4,5,6]).sum()"
   ]
  },
  {
   "cell_type": "code",
   "execution_count": 36,
   "id": "b64e2e47",
   "metadata": {},
   "outputs": [
    {
     "data": {
      "text/html": [
       "<div>\n",
       "<style scoped>\n",
       "    .dataframe tbody tr th:only-of-type {\n",
       "        vertical-align: middle;\n",
       "    }\n",
       "\n",
       "    .dataframe tbody tr th {\n",
       "        vertical-align: top;\n",
       "    }\n",
       "\n",
       "    .dataframe thead th {\n",
       "        text-align: right;\n",
       "    }\n",
       "</style>\n",
       "<table border=\"1\" class=\"dataframe\">\n",
       "  <thead>\n",
       "    <tr style=\"text-align: right;\">\n",
       "      <th></th>\n",
       "      <th>probs</th>\n",
       "    </tr>\n",
       "  </thead>\n",
       "  <tbody>\n",
       "    <tr>\n",
       "      <th>1</th>\n",
       "      <td>0.05</td>\n",
       "    </tr>\n",
       "    <tr>\n",
       "      <th>2</th>\n",
       "      <td>0.05</td>\n",
       "    </tr>\n",
       "    <tr>\n",
       "      <th>3</th>\n",
       "      <td>0.05</td>\n",
       "    </tr>\n",
       "    <tr>\n",
       "      <th>4</th>\n",
       "      <td>0.05</td>\n",
       "    </tr>\n",
       "    <tr>\n",
       "      <th>5</th>\n",
       "      <td>0.05</td>\n",
       "    </tr>\n",
       "    <tr>\n",
       "      <th>6</th>\n",
       "      <td>0.05</td>\n",
       "    </tr>\n",
       "    <tr>\n",
       "      <th>7</th>\n",
       "      <td>0.05</td>\n",
       "    </tr>\n",
       "    <tr>\n",
       "      <th>8</th>\n",
       "      <td>0.05</td>\n",
       "    </tr>\n",
       "    <tr>\n",
       "      <th>9</th>\n",
       "      <td>0.05</td>\n",
       "    </tr>\n",
       "    <tr>\n",
       "      <th>10</th>\n",
       "      <td>0.05</td>\n",
       "    </tr>\n",
       "    <tr>\n",
       "      <th>11</th>\n",
       "      <td>0.05</td>\n",
       "    </tr>\n",
       "    <tr>\n",
       "      <th>12</th>\n",
       "      <td>0.05</td>\n",
       "    </tr>\n",
       "    <tr>\n",
       "      <th>13</th>\n",
       "      <td>0.05</td>\n",
       "    </tr>\n",
       "    <tr>\n",
       "      <th>14</th>\n",
       "      <td>0.05</td>\n",
       "    </tr>\n",
       "    <tr>\n",
       "      <th>15</th>\n",
       "      <td>0.05</td>\n",
       "    </tr>\n",
       "    <tr>\n",
       "      <th>16</th>\n",
       "      <td>0.05</td>\n",
       "    </tr>\n",
       "    <tr>\n",
       "      <th>17</th>\n",
       "      <td>0.05</td>\n",
       "    </tr>\n",
       "    <tr>\n",
       "      <th>18</th>\n",
       "      <td>0.05</td>\n",
       "    </tr>\n",
       "    <tr>\n",
       "      <th>19</th>\n",
       "      <td>0.05</td>\n",
       "    </tr>\n",
       "    <tr>\n",
       "      <th>20</th>\n",
       "      <td>0.05</td>\n",
       "    </tr>\n",
       "  </tbody>\n",
       "</table>\n",
       "</div>"
      ],
      "text/plain": [
       "1     0.05\n",
       "2     0.05\n",
       "3     0.05\n",
       "4     0.05\n",
       "5     0.05\n",
       "6     0.05\n",
       "7     0.05\n",
       "8     0.05\n",
       "9     0.05\n",
       "10    0.05\n",
       "11    0.05\n",
       "12    0.05\n",
       "13    0.05\n",
       "14    0.05\n",
       "15    0.05\n",
       "16    0.05\n",
       "17    0.05\n",
       "18    0.05\n",
       "19    0.05\n",
       "20    0.05\n",
       "Name: , dtype: float64"
      ]
     },
     "execution_count": 36,
     "metadata": {},
     "output_type": "execute_result"
    }
   ],
   "source": [
    "d20 = Pmf.from_seq(range(1,21))\n",
    "d20"
   ]
  },
  {
   "cell_type": "markdown",
   "id": "29ea95aa",
   "metadata": {},
   "source": [
    "##### Qual a chance de rolar um 20?"
   ]
  },
  {
   "cell_type": "code",
   "execution_count": 37,
   "id": "eb036a87",
   "metadata": {},
   "outputs": [
    {
     "data": {
      "text/plain": [
       "0.05"
      ]
     },
     "execution_count": 37,
     "metadata": {},
     "output_type": "execute_result"
    }
   ],
   "source": [
    "d20[20]"
   ]
  },
  {
   "cell_type": "markdown",
   "id": "79fa12d6",
   "metadata": {},
   "source": [
    "#### Criando um Pmf de uma string"
   ]
  },
  {
   "cell_type": "code",
   "execution_count": 38,
   "id": "472a0ed3",
   "metadata": {},
   "outputs": [
    {
     "data": {
      "text/html": [
       "<div>\n",
       "<style scoped>\n",
       "    .dataframe tbody tr th:only-of-type {\n",
       "        vertical-align: middle;\n",
       "    }\n",
       "\n",
       "    .dataframe tbody tr th {\n",
       "        vertical-align: top;\n",
       "    }\n",
       "\n",
       "    .dataframe thead th {\n",
       "        text-align: right;\n",
       "    }\n",
       "</style>\n",
       "<table border=\"1\" class=\"dataframe\">\n",
       "  <thead>\n",
       "    <tr style=\"text-align: right;\">\n",
       "      <th></th>\n",
       "      <th>probs</th>\n",
       "    </tr>\n",
       "  </thead>\n",
       "  <tbody>\n",
       "    <tr>\n",
       "      <th>M</th>\n",
       "      <td>0.090909</td>\n",
       "    </tr>\n",
       "    <tr>\n",
       "      <th>i</th>\n",
       "      <td>0.363636</td>\n",
       "    </tr>\n",
       "    <tr>\n",
       "      <th>p</th>\n",
       "      <td>0.181818</td>\n",
       "    </tr>\n",
       "    <tr>\n",
       "      <th>s</th>\n",
       "      <td>0.363636</td>\n",
       "    </tr>\n",
       "  </tbody>\n",
       "</table>\n",
       "</div>"
      ],
      "text/plain": [
       "M    0.090909\n",
       "i    0.363636\n",
       "p    0.181818\n",
       "s    0.363636\n",
       "Name: , dtype: float64"
      ]
     },
     "execution_count": 38,
     "metadata": {},
     "output_type": "execute_result"
    }
   ],
   "source": [
    "letters = Pmf.from_seq(list('Mississippi'))\n",
    "letters"
   ]
  },
  {
   "cell_type": "markdown",
   "id": "65a1b5c3",
   "metadata": {},
   "source": [
    "#### Qual é a probabilidade de a letra ser i?"
   ]
  },
  {
   "cell_type": "code",
   "execution_count": 39,
   "id": "5c97e0f2",
   "metadata": {},
   "outputs": [
    {
     "data": {
      "text/plain": [
       "0.36363636363636365"
      ]
     },
     "execution_count": 39,
     "metadata": {},
     "output_type": "execute_result"
    }
   ],
   "source": [
    "letters['i'] "
   ]
  },
  {
   "cell_type": "code",
   "execution_count": 40,
   "id": "4bcbc77c",
   "metadata": {},
   "outputs": [
    {
     "data": {
      "text/plain": [
       "'i'"
      ]
     },
     "execution_count": 40,
     "metadata": {},
     "output_type": "execute_result"
    }
   ],
   "source": [
    "letters.idxmax()"
   ]
  },
  {
   "cell_type": "markdown",
   "id": "74adc86d",
   "metadata": {},
   "source": [
    "#### Convertendo para um dataframe e ordenando por probabilidade"
   ]
  },
  {
   "cell_type": "code",
   "execution_count": 41,
   "id": "db42b0bf",
   "metadata": {},
   "outputs": [
    {
     "data": {
      "text/html": [
       "<div>\n",
       "<style scoped>\n",
       "    .dataframe tbody tr th:only-of-type {\n",
       "        vertical-align: middle;\n",
       "    }\n",
       "\n",
       "    .dataframe tbody tr th {\n",
       "        vertical-align: top;\n",
       "    }\n",
       "\n",
       "    .dataframe thead th {\n",
       "        text-align: right;\n",
       "    }\n",
       "</style>\n",
       "<table border=\"1\" class=\"dataframe\">\n",
       "  <thead>\n",
       "    <tr style=\"text-align: right;\">\n",
       "      <th></th>\n",
       "      <th>probs</th>\n",
       "    </tr>\n",
       "  </thead>\n",
       "  <tbody>\n",
       "    <tr>\n",
       "      <th>i</th>\n",
       "      <td>0.363636</td>\n",
       "    </tr>\n",
       "    <tr>\n",
       "      <th>s</th>\n",
       "      <td>0.363636</td>\n",
       "    </tr>\n",
       "    <tr>\n",
       "      <th>p</th>\n",
       "      <td>0.181818</td>\n",
       "    </tr>\n",
       "    <tr>\n",
       "      <th>M</th>\n",
       "      <td>0.090909</td>\n",
       "    </tr>\n",
       "  </tbody>\n",
       "</table>\n",
       "</div>"
      ],
      "text/plain": [
       "      probs\n",
       "i  0.363636\n",
       "s  0.363636\n",
       "p  0.181818\n",
       "M  0.090909"
      ]
     },
     "execution_count": 41,
     "metadata": {},
     "output_type": "execute_result"
    }
   ],
   "source": [
    "pd.DataFrame(letters.values, index=letters.index, columns=['probs']).sort_values('probs', ascending=False)"
   ]
  },
  {
   "cell_type": "markdown",
   "id": "e470b6d1",
   "metadata": {},
   "source": [
    "### Cookie problem\n",
    "Suppose there are two bowls of cookies.\n",
    "\n",
    "* Bowl 1 contains 30 vanilla cookies and 10 chocolate cookies.\n",
    "\n",
    "* Bowl 2 contains 20 vanilla cookies and 20 chocolate cookies.\n",
    "\n",
    "Now suppose you choose one of the bowls at random and, without looking, choose a cookie at random. If the cookie is vanilla, what is the probability that it came from Bowl 1?"
   ]
  },
  {
   "cell_type": "code",
   "execution_count": 42,
   "id": "77b9a915",
   "metadata": {},
   "outputs": [
    {
     "data": {
      "text/html": [
       "<div>\n",
       "<style scoped>\n",
       "    .dataframe tbody tr th:only-of-type {\n",
       "        vertical-align: middle;\n",
       "    }\n",
       "\n",
       "    .dataframe tbody tr th {\n",
       "        vertical-align: top;\n",
       "    }\n",
       "\n",
       "    .dataframe thead th {\n",
       "        text-align: right;\n",
       "    }\n",
       "</style>\n",
       "<table border=\"1\" class=\"dataframe\">\n",
       "  <thead>\n",
       "    <tr style=\"text-align: right;\">\n",
       "      <th></th>\n",
       "      <th>probs</th>\n",
       "    </tr>\n",
       "  </thead>\n",
       "  <tbody>\n",
       "    <tr>\n",
       "      <th>Bowl_1</th>\n",
       "      <td>0.6</td>\n",
       "    </tr>\n",
       "    <tr>\n",
       "      <th>Bowl_2</th>\n",
       "      <td>0.4</td>\n",
       "    </tr>\n",
       "  </tbody>\n",
       "</table>\n",
       "</div>"
      ],
      "text/plain": [
       "Bowl_1    0.6\n",
       "Bowl_2    0.4\n",
       "Name: , dtype: float64"
      ]
     },
     "execution_count": 42,
     "metadata": {},
     "output_type": "execute_result"
    }
   ],
   "source": [
    "likelihood_vannilla = [0.75, 0.5]\n",
    "likelihood_chocolate = list(1 - np.array(likelihood_vannilla))\n",
    "\n",
    "prior = Pmf.from_seq(['Bowl_1','Bowl_2'])\n",
    "posterior = prior * likelihood_vannilla\n",
    "posterior.normalize()\n",
    "posterior"
   ]
  },
  {
   "cell_type": "code",
   "execution_count": 43,
   "id": "c52b29dc",
   "metadata": {},
   "outputs": [
    {
     "data": {
      "text/html": [
       "<div>\n",
       "<style scoped>\n",
       "    .dataframe tbody tr th:only-of-type {\n",
       "        vertical-align: middle;\n",
       "    }\n",
       "\n",
       "    .dataframe tbody tr th {\n",
       "        vertical-align: top;\n",
       "    }\n",
       "\n",
       "    .dataframe thead th {\n",
       "        text-align: right;\n",
       "    }\n",
       "</style>\n",
       "<table border=\"1\" class=\"dataframe\">\n",
       "  <thead>\n",
       "    <tr style=\"text-align: right;\">\n",
       "      <th></th>\n",
       "      <th>probs</th>\n",
       "    </tr>\n",
       "  </thead>\n",
       "  <tbody>\n",
       "    <tr>\n",
       "      <th>Bowl_1</th>\n",
       "      <td>0.428571</td>\n",
       "    </tr>\n",
       "    <tr>\n",
       "      <th>Bowl_2</th>\n",
       "      <td>0.571429</td>\n",
       "    </tr>\n",
       "  </tbody>\n",
       "</table>\n",
       "</div>"
      ],
      "text/plain": [
       "Bowl_1    0.428571\n",
       "Bowl_2    0.571429\n",
       "Name: , dtype: float64"
      ]
     },
     "execution_count": 43,
     "metadata": {},
     "output_type": "execute_result"
    }
   ],
   "source": [
    "#Se colocamos o cookie de volta e fazemos um novo teste, qual a chance de tirarmos um segundo biscoito de chocolate?\n",
    "posterior *= likelihood_chocolate\n",
    "posterior.normalize()\n",
    "posterior"
   ]
  },
  {
   "cell_type": "markdown",
   "id": "84565d6d",
   "metadata": {},
   "source": [
    "### 101 Bowls\n",
    "O bowl   0 terá  0% de cookies de baunilha<br>\n",
    "O bowl  10 terá 10% de cookies de baunilha<br>\n",
    "...<br>\n",
    "O bowl 100 terá 100% de cookies de baunilha"
   ]
  },
  {
   "cell_type": "code",
   "execution_count": 44,
   "id": "63703073",
   "metadata": {},
   "outputs": [],
   "source": [
    "def plot_graph(prior,posterior):\n",
    "    plt.title(f'{posterior.shape[0] - 1} bowls')\n",
    "    plt.plot(prior, label='Prior')\n",
    "    plt.plot(posterior, label='Posterior')\n",
    "    plt.legend()\n",
    "    plt.show()"
   ]
  },
  {
   "cell_type": "code",
   "execution_count": 45,
   "id": "585611ef",
   "metadata": {},
   "outputs": [
    {
     "data": {
      "image/png": "[encoded data removed]",
      "text/plain": [
       "<Figure size 432x288 with 1 Axes>"
      ]
     },
     "metadata": {
      "needs_background": "light"
     },
     "output_type": "display_data"
    }
   ],
   "source": [
    "n = 101 #Quantidade de bowls\n",
    "\n",
    "hypos = np.arange(n)\n",
    "prior = Pmf(1, hypos) \n",
    "prior.normalize()\n",
    "likelihood_vanilla = hypos/100\n",
    "posterior = prior * likelihood_vanilla\n",
    "posterior.normalize()\n",
    "plot_graph(prior, posterior)"
   ]
  },
  {
   "cell_type": "markdown",
   "id": "e1f8296b",
   "metadata": {},
   "source": [
    "Prior é a chance de escolher o determinado pote, enquanto o posterior é a chance de tirar um biscoito de baunilha dele."
   ]
  },
  {
   "cell_type": "code",
   "execution_count": 46,
   "id": "729e60aa",
   "metadata": {},
   "outputs": [
    {
     "data": {
      "text/plain": [
       "100"
      ]
     },
     "execution_count": 46,
     "metadata": {},
     "output_type": "execute_result"
    }
   ],
   "source": [
    "#Melhor porcentagem para o cénario\n",
    "posterior.idxmax()"
   ]
  },
  {
   "cell_type": "markdown",
   "id": "2bc5462c",
   "metadata": {},
   "source": [
    "#### Segunda rodada\n",
    "Agora vamos para o cenário de tirarmos o cookie de baunilha e depois devolvelo e tirarmos novamente um outro de baunilha? "
   ]
  },
  {
   "cell_type": "code",
   "execution_count": 47,
   "id": "2e7974e8",
   "metadata": {},
   "outputs": [
    {
     "data": {
      "image/png": "[encoded data removed]",
      "text/plain": [
       "<Figure size 432x288 with 1 Axes>"
      ]
     },
     "metadata": {
      "needs_background": "light"
     },
     "output_type": "display_data"
    }
   ],
   "source": [
    "posterior = posterior * likelihood_vanilla\n",
    "posterior.normalize()\n",
    "plot_graph(prior, posterior)"
   ]
  },
  {
   "cell_type": "code",
   "execution_count": 48,
   "id": "7f025e9b",
   "metadata": {},
   "outputs": [
    {
     "data": {
      "text/plain": [
       "100"
      ]
     },
     "execution_count": 48,
     "metadata": {},
     "output_type": "execute_result"
    }
   ],
   "source": [
    "#Melhor porcentagem para o cénario\n",
    "posterior.idxmax()"
   ]
  },
  {
   "cell_type": "markdown",
   "id": "1eb730cc",
   "metadata": {},
   "source": [
    "Os potes que tem mais cookies ficam com acentuados enquanto os que tem menos cookies ficam menores."
   ]
  },
  {
   "cell_type": "markdown",
   "id": "6676ab9c",
   "metadata": {},
   "source": [
    "#### Terceira rodada\n",
    "Agora vamos fazer o mesmo que a segunda rodada mas com a possibilidade de ter um cookie de chocolate"
   ]
  },
  {
   "cell_type": "code",
   "execution_count": 49,
   "id": "4df42607",
   "metadata": {},
   "outputs": [
    {
     "data": {
      "image/png": "[encoded data removed]",
      "text/plain": [
       "<Figure size 432x288 with 1 Axes>"
      ]
     },
     "metadata": {
      "needs_background": "light"
     },
     "output_type": "display_data"
    }
   ],
   "source": [
    "likelihood_chocolate = 1 - hypos/100\n",
    "posterior = posterior * likelihood_chocolate\n",
    "posterior.normalize()\n",
    "plot_graph(prior, posterior)"
   ]
  },
  {
   "cell_type": "markdown",
   "id": "f4097144",
   "metadata": {},
   "source": [
    "Agora temos um efeito que os ultimos potes não tem tanto cookie de chocolate e por isso ficam desfavoraveis."
   ]
  },
  {
   "cell_type": "code",
   "execution_count": 50,
   "id": "d1ba7b0d",
   "metadata": {
    "scrolled": true
   },
   "outputs": [
    {
     "data": {
      "text/plain": [
       "67"
      ]
     },
     "execution_count": 50,
     "metadata": {},
     "output_type": "execute_result"
    }
   ],
   "source": [
    "#Melhor porcentagem para o cénario\n",
    "posterior.idxmax()"
   ]
  },
  {
   "cell_type": "markdown",
   "id": "edc62e1d",
   "metadata": {},
   "source": [
    "### Dice problem\n",
    "Temos uma caixa com um d6, um d8 e um d12 <br>\n",
    "Qual á a chance de a gente rodar 1 em um d6"
   ]
  },
  {
   "cell_type": "code",
   "execution_count": 51,
   "id": "22e28960",
   "metadata": {},
   "outputs": [],
   "source": [
    "hypos = [6, 8, 12]\n",
    "prior = Pmf(1/3, hypos)"
   ]
  },
  {
   "cell_type": "code",
   "execution_count": 52,
   "id": "86c3d0e0",
   "metadata": {},
   "outputs": [
    {
     "data": {
      "text/html": [
       "<div>\n",
       "<style scoped>\n",
       "    .dataframe tbody tr th:only-of-type {\n",
       "        vertical-align: middle;\n",
       "    }\n",
       "\n",
       "    .dataframe tbody tr th {\n",
       "        vertical-align: top;\n",
       "    }\n",
       "\n",
       "    .dataframe thead th {\n",
       "        text-align: right;\n",
       "    }\n",
       "</style>\n",
       "<table border=\"1\" class=\"dataframe\">\n",
       "  <thead>\n",
       "    <tr style=\"text-align: right;\">\n",
       "      <th></th>\n",
       "      <th>probs</th>\n",
       "    </tr>\n",
       "  </thead>\n",
       "  <tbody>\n",
       "    <tr>\n",
       "      <th>6</th>\n",
       "      <td>0.444444</td>\n",
       "    </tr>\n",
       "    <tr>\n",
       "      <th>8</th>\n",
       "      <td>0.333333</td>\n",
       "    </tr>\n",
       "    <tr>\n",
       "      <th>12</th>\n",
       "      <td>0.222222</td>\n",
       "    </tr>\n",
       "  </tbody>\n",
       "</table>\n",
       "</div>"
      ],
      "text/plain": [
       "6     0.444444\n",
       "8     0.333333\n",
       "12    0.222222\n",
       "Name: , dtype: float64"
      ]
     },
     "execution_count": 52,
     "metadata": {},
     "output_type": "execute_result"
    }
   ],
   "source": [
    "likelihood = [1/6, 1/8, 1/12]\n",
    "posterior = prior * likelihood\n",
    "posterior.normalize()\n",
    "posterior"
   ]
  },
  {
   "cell_type": "code",
   "execution_count": 53,
   "id": "21323720",
   "metadata": {},
   "outputs": [
    {
     "data": {
      "text/html": [
       "<div>\n",
       "<style scoped>\n",
       "    .dataframe tbody tr th:only-of-type {\n",
       "        vertical-align: middle;\n",
       "    }\n",
       "\n",
       "    .dataframe tbody tr th {\n",
       "        vertical-align: top;\n",
       "    }\n",
       "\n",
       "    .dataframe thead th {\n",
       "        text-align: right;\n",
       "    }\n",
       "</style>\n",
       "<table border=\"1\" class=\"dataframe\">\n",
       "  <thead>\n",
       "    <tr style=\"text-align: right;\">\n",
       "      <th></th>\n",
       "      <th>probs</th>\n",
       "    </tr>\n",
       "  </thead>\n",
       "  <tbody>\n",
       "    <tr>\n",
       "      <th>6</th>\n",
       "      <td>0.444444</td>\n",
       "    </tr>\n",
       "    <tr>\n",
       "      <th>8</th>\n",
       "      <td>0.333333</td>\n",
       "    </tr>\n",
       "    <tr>\n",
       "      <th>12</th>\n",
       "      <td>0.222222</td>\n",
       "    </tr>\n",
       "  </tbody>\n",
       "</table>\n",
       "</div>"
      ],
      "text/plain": [
       "6     0.444444\n",
       "8     0.333333\n",
       "12    0.222222\n",
       "Name: , dtype: float64"
      ]
     },
     "execution_count": 53,
     "metadata": {},
     "output_type": "execute_result"
    }
   ],
   "source": [
    "posterior"
   ]
  },
  {
   "cell_type": "code",
   "execution_count": 54,
   "id": "5ca074cc",
   "metadata": {},
   "outputs": [
    {
     "data": {
      "image/png": "[encoded data removed]",
      "text/plain": [
       "<Figure size 432x288 with 1 Axes>"
      ]
     },
     "metadata": {
      "needs_background": "light"
     },
     "output_type": "display_data"
    }
   ],
   "source": [
    "fig, ax = plt.subplots()\n",
    "x = range(len(posterior))\n",
    "ax.bar(x, posterior)\n",
    "\n",
    "ax.set_xticks(x)\n",
    "_ = ax.set_xticklabels(posterior.index)\n",
    "plt.title('Rolando um 1')\n",
    "plt.show()\n"
   ]
  },
  {
   "cell_type": "code",
   "execution_count": 55,
   "id": "0f9b710b",
   "metadata": {},
   "outputs": [
    {
     "data": {
      "text/html": [
       "<div>\n",
       "<style scoped>\n",
       "    .dataframe tbody tr th:only-of-type {\n",
       "        vertical-align: middle;\n",
       "    }\n",
       "\n",
       "    .dataframe tbody tr th {\n",
       "        vertical-align: top;\n",
       "    }\n",
       "\n",
       "    .dataframe thead th {\n",
       "        text-align: right;\n",
       "    }\n",
       "</style>\n",
       "<table border=\"1\" class=\"dataframe\">\n",
       "  <thead>\n",
       "    <tr style=\"text-align: right;\">\n",
       "      <th></th>\n",
       "      <th>probs</th>\n",
       "    </tr>\n",
       "  </thead>\n",
       "  <tbody>\n",
       "    <tr>\n",
       "      <th>6</th>\n",
       "      <td>0.0</td>\n",
       "    </tr>\n",
       "    <tr>\n",
       "      <th>8</th>\n",
       "      <td>0.6</td>\n",
       "    </tr>\n",
       "    <tr>\n",
       "      <th>12</th>\n",
       "      <td>0.4</td>\n",
       "    </tr>\n",
       "  </tbody>\n",
       "</table>\n",
       "</div>"
      ],
      "text/plain": [
       "6     0.0\n",
       "8     0.6\n",
       "12    0.4\n",
       "Name: , dtype: float64"
      ]
     },
     "execution_count": 55,
     "metadata": {},
     "output_type": "execute_result"
    }
   ],
   "source": [
    "#Chance de rolar 8\n",
    "likelihood = 0, 1/8, 1/12\n",
    "posterior = prior * likelihood\n",
    "posterior.normalize() \n",
    "posterior"
   ]
  },
  {
   "cell_type": "code",
   "execution_count": 56,
   "id": "a67069bd",
   "metadata": {},
   "outputs": [
    {
     "data": {
      "image/png": "[encoded data removed]",
      "text/plain": [
       "<Figure size 432x288 with 1 Axes>"
      ]
     },
     "metadata": {
      "needs_background": "light"
     },
     "output_type": "display_data"
    }
   ],
   "source": [
    "fig, ax = plt.subplots()\n",
    "x = range(len(posterior))\n",
    "ax.bar(x, posterior)\n",
    "\n",
    "ax.set_xticks(x)\n",
    "_ = ax.set_xticklabels(posterior.index)\n",
    "plt.title('Rolando um 8')\n",
    "plt.show()"
   ]
  },
  {
   "cell_type": "code",
   "execution_count": 57,
   "id": "5349482c",
   "metadata": {},
   "outputs": [],
   "source": [
    "def update_dice(pmf, data):\n",
    "    \"\"\"Update pmf based on new data.\"\"\"\n",
    "    hypos = pmf.qs\n",
    "    likelihood = 1 / hypos\n",
    "    impossible = (data > hypos)\n",
    "    likelihood[impossible] = 0\n",
    "    pmf *= likelihood\n",
    "    pmf.normalize()"
   ]
  },
  {
   "cell_type": "markdown",
   "id": "517a83f7",
   "metadata": {},
   "source": [
    "Mesmo caso anterior dos dados mas rodar ele 4 vezes e conseguir 1, 3, 5, 7. Qual a chance de ser um dado d8"
   ]
  },
  {
   "cell_type": "code",
   "execution_count": 106,
   "id": "2e4b0265",
   "metadata": {},
   "outputs": [],
   "source": [
    "hypos = [6, 8, 12]\n",
    "prior = Pmf(1/3, hypos)\n",
    "posterior = prior"
   ]
  },
  {
   "cell_type": "code",
   "execution_count": 100,
   "id": "739b7e89",
   "metadata": {},
   "outputs": [
    {
     "data": {
      "text/html": [
       "<div>\n",
       "<style scoped>\n",
       "    .dataframe tbody tr th:only-of-type {\n",
       "        vertical-align: middle;\n",
       "    }\n",
       "\n",
       "    .dataframe tbody tr th {\n",
       "        vertical-align: top;\n",
       "    }\n",
       "\n",
       "    .dataframe thead th {\n",
       "        text-align: right;\n",
       "    }\n",
       "</style>\n",
       "<table border=\"1\" class=\"dataframe\">\n",
       "  <thead>\n",
       "    <tr style=\"text-align: right;\">\n",
       "      <th></th>\n",
       "      <th>probs</th>\n",
       "    </tr>\n",
       "  </thead>\n",
       "  <tbody>\n",
       "    <tr>\n",
       "      <th>6</th>\n",
       "      <td>0.000000</td>\n",
       "    </tr>\n",
       "    <tr>\n",
       "      <th>8</th>\n",
       "      <td>0.835052</td>\n",
       "    </tr>\n",
       "    <tr>\n",
       "      <th>12</th>\n",
       "      <td>0.164948</td>\n",
       "    </tr>\n",
       "  </tbody>\n",
       "</table>\n",
       "</div>"
      ],
      "text/plain": [
       "6     0.000000\n",
       "8     0.835052\n",
       "12    0.164948\n",
       "Name: , dtype: float64"
      ]
     },
     "execution_count": 100,
     "metadata": {},
     "output_type": "execute_result"
    }
   ],
   "source": [
    "#Chance de rolar 1, 3, 5\n",
    "for i in range(3):\n",
    "    likelihood = 1/6, 1/8, 1/12\n",
    "    posterior *= likelihood\n",
    "    posterior.normalize() \n",
    "\n",
    "likelihood = 0, 1/8, 1/12\n",
    "posterior *= likelihood\n",
    "posterior.normalize() \n",
    "posterior    "
   ]
  },
  {
   "cell_type": "markdown",
   "id": "83b4c8e9",
   "metadata": {},
   "source": [
    "Agora teremos uma quantidade de dados diferente. 1 d4, 2 d6,3 d8,4 d12,5 d20. Se tirar um  7, quan a chance de ser d8?"
   ]
  },
  {
   "cell_type": "code",
   "execution_count": 114,
   "id": "7169b503",
   "metadata": {},
   "outputs": [
    {
     "data": {
      "text/html": [
       "<div>\n",
       "<style scoped>\n",
       "    .dataframe tbody tr th:only-of-type {\n",
       "        vertical-align: middle;\n",
       "    }\n",
       "\n",
       "    .dataframe tbody tr th {\n",
       "        vertical-align: top;\n",
       "    }\n",
       "\n",
       "    .dataframe thead th {\n",
       "        text-align: right;\n",
       "    }\n",
       "</style>\n",
       "<table border=\"1\" class=\"dataframe\">\n",
       "  <thead>\n",
       "    <tr style=\"text-align: right;\">\n",
       "      <th></th>\n",
       "      <th>probs</th>\n",
       "    </tr>\n",
       "  </thead>\n",
       "  <tbody>\n",
       "    <tr>\n",
       "      <th>4</th>\n",
       "      <td>0.066667</td>\n",
       "    </tr>\n",
       "    <tr>\n",
       "      <th>6</th>\n",
       "      <td>0.133333</td>\n",
       "    </tr>\n",
       "    <tr>\n",
       "      <th>8</th>\n",
       "      <td>0.200000</td>\n",
       "    </tr>\n",
       "    <tr>\n",
       "      <th>12</th>\n",
       "      <td>0.266667</td>\n",
       "    </tr>\n",
       "    <tr>\n",
       "      <th>20</th>\n",
       "      <td>0.333333</td>\n",
       "    </tr>\n",
       "  </tbody>\n",
       "</table>\n",
       "</div>"
      ],
      "text/plain": [
       "4     0.066667\n",
       "6     0.133333\n",
       "8     0.200000\n",
       "12    0.266667\n",
       "20    0.333333\n",
       "Name: , dtype: float64"
      ]
     },
     "execution_count": 114,
     "metadata": {},
     "output_type": "execute_result"
    }
   ],
   "source": [
    "hypos = [4, 6, 8, 12, 20]\n",
    "prob = [1/15, 2/15, 3/15, 4/15, 5/15]\n",
    "prior = Pmf(prob, hypos)\n",
    "prior"
   ]
  },
  {
   "cell_type": "code",
   "execution_count": 117,
   "id": "2732ce51",
   "metadata": {},
   "outputs": [
    {
     "data": {
      "text/html": [
       "<div>\n",
       "<style scoped>\n",
       "    .dataframe tbody tr th:only-of-type {\n",
       "        vertical-align: middle;\n",
       "    }\n",
       "\n",
       "    .dataframe tbody tr th {\n",
       "        vertical-align: top;\n",
       "    }\n",
       "\n",
       "    .dataframe thead th {\n",
       "        text-align: right;\n",
       "    }\n",
       "</style>\n",
       "<table border=\"1\" class=\"dataframe\">\n",
       "  <thead>\n",
       "    <tr style=\"text-align: right;\">\n",
       "      <th></th>\n",
       "      <th>probs</th>\n",
       "    </tr>\n",
       "  </thead>\n",
       "  <tbody>\n",
       "    <tr>\n",
       "      <th>4</th>\n",
       "      <td>0.000000</td>\n",
       "    </tr>\n",
       "    <tr>\n",
       "      <th>6</th>\n",
       "      <td>0.000000</td>\n",
       "    </tr>\n",
       "    <tr>\n",
       "      <th>8</th>\n",
       "      <td>0.391304</td>\n",
       "    </tr>\n",
       "    <tr>\n",
       "      <th>12</th>\n",
       "      <td>0.347826</td>\n",
       "    </tr>\n",
       "    <tr>\n",
       "      <th>20</th>\n",
       "      <td>0.260870</td>\n",
       "    </tr>\n",
       "  </tbody>\n",
       "</table>\n",
       "</div>"
      ],
      "text/plain": [
       "4     0.000000\n",
       "6     0.000000\n",
       "8     0.391304\n",
       "12    0.347826\n",
       "20    0.260870\n",
       "Name: , dtype: float64"
      ]
     },
     "execution_count": 117,
     "metadata": {},
     "output_type": "execute_result"
    }
   ],
   "source": [
    "likelihood = [0,0,1/8,1/12,1/20]\n",
    "posterior = prior * likelihood\n",
    "posterior.normalize() \n",
    "posterior    "
   ]
  },
  {
   "cell_type": "markdown",
   "id": "72c5a48b",
   "metadata": {},
   "source": [
    "Tenho duas gavetas de meias. A primeira tem a mesma quantidade de meias brancas e pretas.<br> \n",
    "A segunda tem a messma quantidade de meias vermelhas, verdes e azuis.<br>\n",
    "Você escolheu uma gaveta aleatoriamente"
   ]
  },
  {
   "cell_type": "code",
   "execution_count": 137,
   "id": "cdc0bc06",
   "metadata": {},
   "outputs": [],
   "source": [
    "#qual a chance das meias serem brancas?"
   ]
  },
  {
   "cell_type": "code",
   "execution_count": 138,
   "id": "68b387a3",
   "metadata": {},
   "outputs": [
    {
     "data": {
      "text/html": [
       "<div>\n",
       "<style scoped>\n",
       "    .dataframe tbody tr th:only-of-type {\n",
       "        vertical-align: middle;\n",
       "    }\n",
       "\n",
       "    .dataframe tbody tr th {\n",
       "        vertical-align: top;\n",
       "    }\n",
       "\n",
       "    .dataframe thead th {\n",
       "        text-align: right;\n",
       "    }\n",
       "</style>\n",
       "<table border=\"1\" class=\"dataframe\">\n",
       "  <thead>\n",
       "    <tr style=\"text-align: right;\">\n",
       "      <th></th>\n",
       "      <th>probs</th>\n",
       "    </tr>\n",
       "  </thead>\n",
       "  <tbody>\n",
       "    <tr>\n",
       "      <th>1</th>\n",
       "      <td>0.25</td>\n",
       "    </tr>\n",
       "    <tr>\n",
       "      <th>2</th>\n",
       "      <td>0.00</td>\n",
       "    </tr>\n",
       "  </tbody>\n",
       "</table>\n",
       "</div>"
      ],
      "text/plain": [
       "1    0.25\n",
       "2    0.00\n",
       "Name: , dtype: float64"
      ]
     },
     "execution_count": 138,
     "metadata": {},
     "output_type": "execute_result"
    }
   ],
   "source": [
    "prior = Pmf.from_seq([1,2])\n",
    "likelihood = [1/2, 0]\n",
    "posterior = prior * likelihood\n",
    "posterior"
   ]
  },
  {
   "cell_type": "code",
   "execution_count": 139,
   "id": "4d6a4a76",
   "metadata": {},
   "outputs": [],
   "source": [
    "#Qual a chance da  meia ser vermelha?"
   ]
  },
  {
   "cell_type": "code",
   "execution_count": 140,
   "id": "fc2b6776",
   "metadata": {},
   "outputs": [
    {
     "data": {
      "text/html": [
       "<div>\n",
       "<style scoped>\n",
       "    .dataframe tbody tr th:only-of-type {\n",
       "        vertical-align: middle;\n",
       "    }\n",
       "\n",
       "    .dataframe tbody tr th {\n",
       "        vertical-align: top;\n",
       "    }\n",
       "\n",
       "    .dataframe thead th {\n",
       "        text-align: right;\n",
       "    }\n",
       "</style>\n",
       "<table border=\"1\" class=\"dataframe\">\n",
       "  <thead>\n",
       "    <tr style=\"text-align: right;\">\n",
       "      <th></th>\n",
       "      <th>probs</th>\n",
       "    </tr>\n",
       "  </thead>\n",
       "  <tbody>\n",
       "    <tr>\n",
       "      <th>1</th>\n",
       "      <td>0.000000</td>\n",
       "    </tr>\n",
       "    <tr>\n",
       "      <th>2</th>\n",
       "      <td>0.166667</td>\n",
       "    </tr>\n",
       "  </tbody>\n",
       "</table>\n",
       "</div>"
      ],
      "text/plain": [
       "1    0.000000\n",
       "2    0.166667\n",
       "Name: , dtype: float64"
      ]
     },
     "execution_count": 140,
     "metadata": {},
     "output_type": "execute_result"
    }
   ],
   "source": [
    "prior = Pmf.from_seq([1,2])\n",
    "likelihood = [0, 1/3]\n",
    "posterior = prior * likelihood\n",
    "posterior"
   ]
  },
  {
   "cell_type": "code",
   "execution_count": 145,
   "id": "bb75f048",
   "metadata": {},
   "outputs": [
    {
     "data": {
      "text/html": [
       "<div>\n",
       "<style scoped>\n",
       "    .dataframe tbody tr th:only-of-type {\n",
       "        vertical-align: middle;\n",
       "    }\n",
       "\n",
       "    .dataframe tbody tr th {\n",
       "        vertical-align: top;\n",
       "    }\n",
       "\n",
       "    .dataframe thead th {\n",
       "        text-align: right;\n",
       "    }\n",
       "</style>\n",
       "<table border=\"1\" class=\"dataframe\">\n",
       "  <thead>\n",
       "    <tr style=\"text-align: right;\">\n",
       "      <th></th>\n",
       "      <th>probs</th>\n",
       "    </tr>\n",
       "  </thead>\n",
       "  <tbody>\n",
       "    <tr>\n",
       "      <th>Azul</th>\n",
       "      <td>0.250000</td>\n",
       "    </tr>\n",
       "    <tr>\n",
       "      <th>Branca</th>\n",
       "      <td>0.250000</td>\n",
       "    </tr>\n",
       "    <tr>\n",
       "      <th>Preta</th>\n",
       "      <td>0.166667</td>\n",
       "    </tr>\n",
       "    <tr>\n",
       "      <th>Verde</th>\n",
       "      <td>0.166667</td>\n",
       "    </tr>\n",
       "    <tr>\n",
       "      <th>Vermelha</th>\n",
       "      <td>0.166667</td>\n",
       "    </tr>\n",
       "  </tbody>\n",
       "</table>\n",
       "</div>"
      ],
      "text/plain": [
       "Azul        0.250000\n",
       "Branca      0.250000\n",
       "Preta       0.166667\n",
       "Verde       0.166667\n",
       "Vermelha    0.166667\n",
       "Name: , dtype: float64"
      ]
     },
     "execution_count": 145,
     "metadata": {},
     "output_type": "execute_result"
    }
   ],
   "source": [
    "#Qual a chance de ser qualquer meia\n",
    "prior = Pmf.from_seq(['Branca','Preta', 'Vermelha', 'Verde', 'Azul'])\n",
    "likelihood = [1/2,1/2,1/3,1/3,1/3]\n",
    "posterior = prior * likelihood\n",
    "posterior.normalize()\n",
    "posterior"
   ]
  },
  {
   "cell_type": "code",
   "execution_count": 151,
   "id": "1332b89e",
   "metadata": {},
   "outputs": [
    {
     "data": {
      "text/html": [
       "<div>\n",
       "<style scoped>\n",
       "    .dataframe tbody tr th:only-of-type {\n",
       "        vertical-align: middle;\n",
       "    }\n",
       "\n",
       "    .dataframe tbody tr th {\n",
       "        vertical-align: top;\n",
       "    }\n",
       "\n",
       "    .dataframe thead th {\n",
       "        text-align: right;\n",
       "    }\n",
       "</style>\n",
       "<table border=\"1\" class=\"dataframe\">\n",
       "  <thead>\n",
       "    <tr style=\"text-align: right;\">\n",
       "      <th></th>\n",
       "      <th>probs</th>\n",
       "    </tr>\n",
       "  </thead>\n",
       "  <tbody>\n",
       "    <tr>\n",
       "      <th>Azul</th>\n",
       "      <td>0.5</td>\n",
       "    </tr>\n",
       "    <tr>\n",
       "      <th>Branca</th>\n",
       "      <td>0.5</td>\n",
       "    </tr>\n",
       "    <tr>\n",
       "      <th>Preta</th>\n",
       "      <td>0.0</td>\n",
       "    </tr>\n",
       "    <tr>\n",
       "      <th>Verde</th>\n",
       "      <td>0.0</td>\n",
       "    </tr>\n",
       "    <tr>\n",
       "      <th>Vermelha</th>\n",
       "      <td>0.0</td>\n",
       "    </tr>\n",
       "  </tbody>\n",
       "</table>\n",
       "</div>"
      ],
      "text/plain": [
       "Azul        0.5\n",
       "Branca      0.5\n",
       "Preta       0.0\n",
       "Verde       0.0\n",
       "Vermelha    0.0\n",
       "Name: , dtype: float64"
      ]
     },
     "execution_count": 151,
     "metadata": {},
     "output_type": "execute_result"
    }
   ],
   "source": [
    "#Qualquer uma na gaveta 1\n",
    "prior = Pmf.from_seq(['Branca','Preta', 'Vermelha', 'Verde', 'Azul'])\n",
    "likelihood = [1/2,1/2,0,0,0]\n",
    "posterior = prior * likelihood\n",
    "posterior.normalize()\n",
    "posterior"
   ]
  },
  {
   "cell_type": "code",
   "execution_count": 149,
   "id": "53e5147c",
   "metadata": {},
   "outputs": [
    {
     "data": {
      "text/html": [
       "<div>\n",
       "<style scoped>\n",
       "    .dataframe tbody tr th:only-of-type {\n",
       "        vertical-align: middle;\n",
       "    }\n",
       "\n",
       "    .dataframe tbody tr th {\n",
       "        vertical-align: top;\n",
       "    }\n",
       "\n",
       "    .dataframe thead th {\n",
       "        text-align: right;\n",
       "    }\n",
       "</style>\n",
       "<table border=\"1\" class=\"dataframe\">\n",
       "  <thead>\n",
       "    <tr style=\"text-align: right;\">\n",
       "      <th></th>\n",
       "      <th>probs</th>\n",
       "    </tr>\n",
       "  </thead>\n",
       "  <tbody>\n",
       "    <tr>\n",
       "      <th>Azul</th>\n",
       "      <td>0.000000</td>\n",
       "    </tr>\n",
       "    <tr>\n",
       "      <th>Branca</th>\n",
       "      <td>0.000000</td>\n",
       "    </tr>\n",
       "    <tr>\n",
       "      <th>Preta</th>\n",
       "      <td>0.333333</td>\n",
       "    </tr>\n",
       "    <tr>\n",
       "      <th>Verde</th>\n",
       "      <td>0.333333</td>\n",
       "    </tr>\n",
       "    <tr>\n",
       "      <th>Vermelha</th>\n",
       "      <td>0.333333</td>\n",
       "    </tr>\n",
       "  </tbody>\n",
       "</table>\n",
       "</div>"
      ],
      "text/plain": [
       "Azul        0.000000\n",
       "Branca      0.000000\n",
       "Preta       0.333333\n",
       "Verde       0.333333\n",
       "Vermelha    0.333333\n",
       "Name: , dtype: float64"
      ]
     },
     "execution_count": 149,
     "metadata": {},
     "output_type": "execute_result"
    }
   ],
   "source": [
    "#Qualquer uma na gaveta 2\n",
    "prior = Pmf.from_seq(['Branca','Preta', 'Vermelha', 'Verde', 'Azul'])\n",
    "likelihood = [0,0,1/3,1/3,1/3]\n",
    "posterior = prior * likelihood\n",
    "posterior.normalize()\n",
    "posterior"
   ]
  },
  {
   "cell_type": "code",
   "execution_count": null,
   "id": "ce93cfca",
   "metadata": {},
   "outputs": [],
   "source": []
  }
 ],
 "metadata": {
  "kernelspec": {
   "display_name": "Python 3",
   "language": "python",
   "name": "python3"
  },
  "language_info": {
   "codemirror_mode": {
    "name": "ipython",
    "version": 3
   },
   "file_extension": ".py",
   "mimetype": "text/x-python",
   "name": "python",
   "nbconvert_exporter": "python",
   "pygments_lexer": "ipython3",
   "version": "3.8.8"
  }
 },
 "nbformat": 4,
 "nbformat_minor": 5
}
