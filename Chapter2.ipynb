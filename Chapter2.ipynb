{
 "cells": [
  {
   "cell_type": "code",
   "execution_count": 2,
   "id": "5be13ca8",
   "metadata": {},
   "outputs": [],
   "source": [
    "import pandas as pd"
   ]
  },
  {
   "cell_type": "markdown",
   "id": "3bf31aee",
   "metadata": {},
   "source": [
    "### The Cookie Problem\n",
    "\n",
    "* Bowl 1 contains 30 vanilla cookies and 10 chocolate cookies.\n",
    "* Bowl 2 contains 20 vanilla cookies and 20 chocolate cookies.\n",
    "\n",
    "Now suppose you choose one of the bowls at random and, without looking, choose a cookie at random. If the cookie is vanilla, what is the probability that it came from Bowl 1?"
   ]
  },
  {
   "cell_type": "code",
   "execution_count": 2,
   "id": "b15dfe82",
   "metadata": {},
   "outputs": [],
   "source": [
    "cookies = []\n",
    "#Pote 1\n",
    "for i in range(40):\n",
    "  if i < 30:\n",
    "    cookies.append((1,'baunilha'))\n",
    "  else:\n",
    "    cookies.append((1,'chocolate'))\n",
    "\n",
    "\n",
    "#Pote 2\n",
    "for i in range(40):\n",
    "  if i < 20:\n",
    "    cookies.append((2,'baunilha'))\n",
    "  else:\n",
    "    cookies.append((2,'chocolate'))\n",
    "\n",
    "df = pd.DataFrame(cookies, columns=['pote','sabor'])"
   ]
  },
  {
   "cell_type": "code",
   "execution_count": 13,
   "id": "cbc48e31",
   "metadata": {},
   "outputs": [
    {
     "data": {
      "text/plain": [
       "0.5"
      ]
     },
     "execution_count": 13,
     "metadata": {},
     "output_type": "execute_result"
    }
   ],
   "source": [
    "#Chance de ser o Pote1 \n",
    "pote1 = df.pote == 1\n",
    "pote2 = df.pote == 2\n",
    "\n",
    "pote1.mean()"
   ]
  },
  {
   "cell_type": "code",
   "execution_count": 10,
   "id": "fa8a79f4",
   "metadata": {},
   "outputs": [
    {
     "data": {
      "text/plain": [
       "0.625"
      ]
     },
     "execution_count": 10,
     "metadata": {},
     "output_type": "execute_result"
    }
   ],
   "source": [
    "#Chance de ser de baunilha\n",
    "baunilha = df.sabor == 'baunilha'\n",
    "baunilha.mean()\n"
   ]
  },
  {
   "cell_type": "code",
   "execution_count": 11,
   "id": "96f59097",
   "metadata": {},
   "outputs": [
    {
     "data": {
      "text/plain": [
       "0.375"
      ]
     },
     "execution_count": 11,
     "metadata": {},
     "output_type": "execute_result"
    }
   ],
   "source": [
    "#Chance de ser de baunilha e do pote1\n",
    "(pote1 & baunilha).mean()"
   ]
  },
  {
   "cell_type": "code",
   "execution_count": 15,
   "id": "ed9025c9",
   "metadata": {},
   "outputs": [
    {
     "data": {
      "text/plain": [
       "0.6"
      ]
     },
     "execution_count": 15,
     "metadata": {},
     "output_type": "execute_result"
    }
   ],
   "source": [
    "#Do jeito que está escrito, acredito que esta seja a resposta.\n",
    "pote1[baunilha].mean()"
   ]
  },
  {
   "cell_type": "code",
   "execution_count": null,
   "id": "49b4ea69",
   "metadata": {},
   "outputs": [],
   "source": [
    "#Usando o theorema da bayes\n"
   ]
  },
  {
   "cell_type": "code",
   "execution_count": 18,
   "id": "9f90de8f",
   "metadata": {},
   "outputs": [
    {
     "data": {
      "text/plain": [
       "0.5"
      ]
     },
     "execution_count": 18,
     "metadata": {},
     "output_type": "execute_result"
    }
   ],
   "source": [
    "pote1.mean()"
   ]
  },
  {
   "cell_type": "markdown",
   "id": "d922e8e8",
   "metadata": {},
   "source": [
    "### Diachronic bayes\n",
    "Esse exemplo vai usar o mesmo do cookie"
   ]
  },
  {
   "cell_type": "code",
   "execution_count": 13,
   "id": "d6911198",
   "metadata": {},
   "outputs": [
    {
     "data": {
      "text/html": [
       "<div>\n",
       "<style scoped>\n",
       "    .dataframe tbody tr th:only-of-type {\n",
       "        vertical-align: middle;\n",
       "    }\n",
       "\n",
       "    .dataframe tbody tr th {\n",
       "        vertical-align: top;\n",
       "    }\n",
       "\n",
       "    .dataframe thead th {\n",
       "        text-align: right;\n",
       "    }\n",
       "</style>\n",
       "<table border=\"1\" class=\"dataframe\">\n",
       "  <thead>\n",
       "    <tr style=\"text-align: right;\">\n",
       "      <th></th>\n",
       "      <th>prior</th>\n",
       "      <th>likelihood</th>\n",
       "      <th>unnorm</th>\n",
       "      <th>posterior</th>\n",
       "    </tr>\n",
       "  </thead>\n",
       "  <tbody>\n",
       "    <tr>\n",
       "      <th>Bowl 1</th>\n",
       "      <td>0.5</td>\n",
       "      <td>0.75</td>\n",
       "      <td>0.375</td>\n",
       "      <td>0.6</td>\n",
       "    </tr>\n",
       "    <tr>\n",
       "      <th>Bowl 2</th>\n",
       "      <td>0.5</td>\n",
       "      <td>0.50</td>\n",
       "      <td>0.250</td>\n",
       "      <td>0.4</td>\n",
       "    </tr>\n",
       "  </tbody>\n",
       "</table>\n",
       "</div>"
      ],
      "text/plain": [
       "        prior  likelihood  unnorm  posterior\n",
       "Bowl 1    0.5        0.75   0.375        0.6\n",
       "Bowl 2    0.5        0.50   0.250        0.4"
      ]
     },
     "execution_count": 13,
     "metadata": {},
     "output_type": "execute_result"
    }
   ],
   "source": [
    "table = pd.DataFrame(index=['Bowl 1', 'Bowl 2'])\n",
    "table['prior'] = 1/2, 1/2 #Chance de escolher o bowl\n",
    "table['likelihood'] = 3/4, 1/2 #Chance de pegar o cookie em cada tigela\n",
    "table['unnorm'] = table['prior'] * table['likelihood']\n",
    "\n",
    "prob_data = table['unnorm'].sum() #unnormalized posteriors\n",
    "prob_data\n",
    "\n",
    "table['posterior'] = table['unnorm'] / prob_data\n",
    "\n",
    "\n",
    "table"
   ]
  },
  {
   "cell_type": "code",
   "execution_count": 10,
   "id": "99172d55",
   "metadata": {},
   "outputs": [
    {
     "data": {
      "text/html": [
       "<div>\n",
       "<style scoped>\n",
       "    .dataframe tbody tr th:only-of-type {\n",
       "        vertical-align: middle;\n",
       "    }\n",
       "\n",
       "    .dataframe tbody tr th {\n",
       "        vertical-align: top;\n",
       "    }\n",
       "\n",
       "    .dataframe thead th {\n",
       "        text-align: right;\n",
       "    }\n",
       "</style>\n",
       "<table border=\"1\" class=\"dataframe\">\n",
       "  <thead>\n",
       "    <tr style=\"text-align: right;\">\n",
       "      <th></th>\n",
       "      <th>prior</th>\n",
       "      <th>likelihood</th>\n",
       "      <th>unnorm</th>\n",
       "    </tr>\n",
       "  </thead>\n",
       "  <tbody>\n",
       "    <tr>\n",
       "      <th>Bowl 1</th>\n",
       "      <td>0.5</td>\n",
       "      <td>0.75</td>\n",
       "      <td>0.375</td>\n",
       "    </tr>\n",
       "    <tr>\n",
       "      <th>Bowl 2</th>\n",
       "      <td>0.5</td>\n",
       "      <td>0.50</td>\n",
       "      <td>0.250</td>\n",
       "    </tr>\n",
       "  </tbody>\n",
       "</table>\n",
       "</div>"
      ],
      "text/plain": [
       "        prior  likelihood  unnorm\n",
       "Bowl 1    0.5        0.75   0.375\n",
       "Bowl 2    0.5        0.50   0.250"
      ]
     },
     "execution_count": 10,
     "metadata": {},
     "output_type": "execute_result"
    }
   ],
   "source": [
    "table"
   ]
  },
  {
   "cell_type": "markdown",
   "id": "10299cd1",
   "metadata": {},
   "source": [
    "### The dice problem\n",
    "Você tem uma caixa com um dado de 6 lados, um de 8 lados e outro de 12 dados.<br>\n",
    "Você pegou um dado e rolou um 1, qual é a chance dele ser de 6 lados?"
   ]
  },
  {
   "cell_type": "code",
   "execution_count": 27,
   "id": "c2401ee8",
   "metadata": {},
   "outputs": [
    {
     "data": {
      "text/html": [
       "<div>\n",
       "<style scoped>\n",
       "    .dataframe tbody tr th:only-of-type {\n",
       "        vertical-align: middle;\n",
       "    }\n",
       "\n",
       "    .dataframe tbody tr th {\n",
       "        vertical-align: top;\n",
       "    }\n",
       "\n",
       "    .dataframe thead th {\n",
       "        text-align: right;\n",
       "    }\n",
       "</style>\n",
       "<table border=\"1\" class=\"dataframe\">\n",
       "  <thead>\n",
       "    <tr style=\"text-align: right;\">\n",
       "      <th></th>\n",
       "      <th>prior</th>\n",
       "      <th>likehood</th>\n",
       "      <th>unnorm</th>\n",
       "      <th>posterior</th>\n",
       "    </tr>\n",
       "  </thead>\n",
       "  <tbody>\n",
       "    <tr>\n",
       "      <th>6</th>\n",
       "      <td>0.33</td>\n",
       "      <td>0.17</td>\n",
       "      <td>0.0561</td>\n",
       "      <td>0.459459</td>\n",
       "    </tr>\n",
       "    <tr>\n",
       "      <th>8</th>\n",
       "      <td>0.33</td>\n",
       "      <td>0.12</td>\n",
       "      <td>0.0396</td>\n",
       "      <td>0.324324</td>\n",
       "    </tr>\n",
       "    <tr>\n",
       "      <th>12</th>\n",
       "      <td>0.33</td>\n",
       "      <td>0.08</td>\n",
       "      <td>0.0264</td>\n",
       "      <td>0.216216</td>\n",
       "    </tr>\n",
       "  </tbody>\n",
       "</table>\n",
       "</div>"
      ],
      "text/plain": [
       "    prior  likehood  unnorm  posterior\n",
       "6    0.33      0.17  0.0561   0.459459\n",
       "8    0.33      0.12  0.0396   0.324324\n",
       "12   0.33      0.08  0.0264   0.216216"
      ]
     },
     "execution_count": 27,
     "metadata": {},
     "output_type": "execute_result"
    }
   ],
   "source": [
    "table = pd.DataFrame(index=[6, 8, 12])\n",
    "table['prior'] = 0.33\n",
    "table['likehood'] = [0.17,0.12,0.08]\n",
    "table['unnorm'] = table['prior'] * table['likehood']\n",
    "\n",
    "prob_data = table['unnorm'].sum() #unnormalized posteriors\n",
    "\n",
    "table['posterior'] = table['unnorm'] / prob_data\n",
    "table.sort_values('posterior', ascending=False)"
   ]
  },
  {
   "cell_type": "code",
   "execution_count": 29,
   "id": "8e3e567c",
   "metadata": {},
   "outputs": [
    {
     "data": {
      "text/html": [
       "<div>\n",
       "<style scoped>\n",
       "    .dataframe tbody tr th:only-of-type {\n",
       "        vertical-align: middle;\n",
       "    }\n",
       "\n",
       "    .dataframe tbody tr th {\n",
       "        vertical-align: top;\n",
       "    }\n",
       "\n",
       "    .dataframe thead th {\n",
       "        text-align: right;\n",
       "    }\n",
       "</style>\n",
       "<table border=\"1\" class=\"dataframe\">\n",
       "  <thead>\n",
       "    <tr style=\"text-align: right;\">\n",
       "      <th></th>\n",
       "      <th>prior</th>\n",
       "      <th>likehood</th>\n",
       "      <th>unnorm</th>\n",
       "      <th>posterior</th>\n",
       "    </tr>\n",
       "  </thead>\n",
       "  <tbody>\n",
       "    <tr>\n",
       "      <th>8</th>\n",
       "      <td>1/3</td>\n",
       "      <td>1/8</td>\n",
       "      <td>1/24</td>\n",
       "      <td>3/5</td>\n",
       "    </tr>\n",
       "    <tr>\n",
       "      <th>12</th>\n",
       "      <td>1/3</td>\n",
       "      <td>1/12</td>\n",
       "      <td>1/36</td>\n",
       "      <td>2/5</td>\n",
       "    </tr>\n",
       "    <tr>\n",
       "      <th>6</th>\n",
       "      <td>1/3</td>\n",
       "      <td>0</td>\n",
       "      <td>0</td>\n",
       "      <td>0</td>\n",
       "    </tr>\n",
       "  </tbody>\n",
       "</table>\n",
       "</div>"
      ],
      "text/plain": [
       "   prior likehood unnorm posterior\n",
       "8    1/3      1/8   1/24       3/5\n",
       "12   1/3     1/12   1/36       2/5\n",
       "6    1/3        0      0         0"
      ]
     },
     "execution_count": 29,
     "metadata": {},
     "output_type": "execute_result"
    }
   ],
   "source": [
    "#Exemplo de uso de biblioteca para a fração\n",
    "from fractions import Fraction\n",
    "table = pd.DataFrame(index=[6, 8, 12])\n",
    "table['prior'] = Fraction(1, 3)\n",
    "table['likehood'] = [Fraction(1, 6),Fraction(1, 8),Fraction(1, 12)]\n",
    "table['unnorm'] = table['prior'] * table['likehood']\n",
    "\n",
    "prob_data = table['unnorm'].sum() #unnormalized posteriors\n",
    "\n",
    "table['posterior'] = table['unnorm'] / prob_data\n",
    "table.sort_values('posterior', ascending=False)"
   ]
  },
  {
   "cell_type": "code",
   "execution_count": 71,
   "id": "a36f42d5",
   "metadata": {},
   "outputs": [],
   "source": [
    "#type, row\n",
    "dice = []\n",
    "row = []\n",
    "\n",
    "#D6\n",
    "for n in [6,8,21]:\n",
    "    for i in range(1,n+1):\n",
    "        dice.append(n)\n",
    "        row.append(i)    \n",
    "\n",
    "\n",
    "\n",
    "df = pd.DataFrame(index=dice,data=row, columns=['row'])\n",
    "df.reset_index(inplace=True)\n",
    "df.columns = ['dice','row']"
   ]
  },
  {
   "cell_type": "code",
   "execution_count": 72,
   "id": "f5ffe26c",
   "metadata": {},
   "outputs": [
    {
     "data": {
      "text/plain": [
       "0.08571428571428572"
      ]
     },
     "execution_count": 72,
     "metadata": {},
     "output_type": "execute_result"
    }
   ],
   "source": [
    "(df['row'] == 1).mean()"
   ]
  },
  {
   "cell_type": "code",
   "execution_count": 78,
   "id": "7ebd8e00",
   "metadata": {},
   "outputs": [
    {
     "data": {
      "text/plain": [
       "0.16666666666666666"
      ]
     },
     "execution_count": 78,
     "metadata": {},
     "output_type": "execute_result"
    }
   ],
   "source": [
    "(df[df['dice'] == 6]['row'] == 1).mean()"
   ]
  },
  {
   "cell_type": "code",
   "execution_count": 79,
   "id": "ba781f38",
   "metadata": {},
   "outputs": [
    {
     "data": {
      "text/plain": [
       "0.125"
      ]
     },
     "execution_count": 79,
     "metadata": {},
     "output_type": "execute_result"
    }
   ],
   "source": [
    "(df[df['dice'] == 8]['row'] == 1).mean()"
   ]
  },
  {
   "cell_type": "code",
   "execution_count": 80,
   "id": "a036bbcb",
   "metadata": {},
   "outputs": [
    {
     "data": {
      "text/plain": [
       "0.047619047619047616"
      ]
     },
     "execution_count": 80,
     "metadata": {},
     "output_type": "execute_result"
    }
   ],
   "source": [
    "(df[df['dice'] == 21]['row'] == 1).mean()"
   ]
  },
  {
   "cell_type": "markdown",
   "id": "785eade4",
   "metadata": {},
   "source": [
    "### The dice problem 2\n",
    "E se mudar o experimento para rolar um 8?"
   ]
  },
  {
   "cell_type": "code",
   "execution_count": 25,
   "id": "9e2b8786",
   "metadata": {},
   "outputs": [
    {
     "data": {
      "text/html": [
       "<div>\n",
       "<style scoped>\n",
       "    .dataframe tbody tr th:only-of-type {\n",
       "        vertical-align: middle;\n",
       "    }\n",
       "\n",
       "    .dataframe tbody tr th {\n",
       "        vertical-align: top;\n",
       "    }\n",
       "\n",
       "    .dataframe thead th {\n",
       "        text-align: right;\n",
       "    }\n",
       "</style>\n",
       "<table border=\"1\" class=\"dataframe\">\n",
       "  <thead>\n",
       "    <tr style=\"text-align: right;\">\n",
       "      <th></th>\n",
       "      <th>prior</th>\n",
       "      <th>likehood</th>\n",
       "      <th>unnorm</th>\n",
       "      <th>posterior</th>\n",
       "    </tr>\n",
       "  </thead>\n",
       "  <tbody>\n",
       "    <tr>\n",
       "      <th>8</th>\n",
       "      <td>0.33</td>\n",
       "      <td>0.12</td>\n",
       "      <td>0.0396</td>\n",
       "      <td>0.6</td>\n",
       "    </tr>\n",
       "    <tr>\n",
       "      <th>12</th>\n",
       "      <td>0.33</td>\n",
       "      <td>0.08</td>\n",
       "      <td>0.0264</td>\n",
       "      <td>0.4</td>\n",
       "    </tr>\n",
       "    <tr>\n",
       "      <th>6</th>\n",
       "      <td>0.33</td>\n",
       "      <td>0.00</td>\n",
       "      <td>0.0000</td>\n",
       "      <td>0.0</td>\n",
       "    </tr>\n",
       "  </tbody>\n",
       "</table>\n",
       "</div>"
      ],
      "text/plain": [
       "    prior  likehood  unnorm  posterior\n",
       "8    0.33      0.12  0.0396        0.6\n",
       "12   0.33      0.08  0.0264        0.4\n",
       "6    0.33      0.00  0.0000        0.0"
      ]
     },
     "execution_count": 25,
     "metadata": {},
     "output_type": "execute_result"
    }
   ],
   "source": [
    "table = pd.DataFrame(index=[6, 8, 12])\n",
    "table['prior'] = 0.33\n",
    "table['likehood'] = [0,0.12,0.08]\n",
    "table['unnorm'] = table['prior'] * table['likehood']\n",
    "\n",
    "prob_data = table['unnorm'].sum() #unnormalized posteriors\n",
    "\n",
    "table['posterior'] = table['unnorm'] / prob_data\n",
    "table.sort_values('posterior', ascending=False)"
   ]
  },
  {
   "cell_type": "code",
   "execution_count": null,
   "id": "4f47d291",
   "metadata": {},
   "outputs": [],
   "source": []
  }
 ],
 "metadata": {
  "kernelspec": {
   "display_name": "Python 3",
   "language": "python",
   "name": "python3"
  },
  "language_info": {
   "codemirror_mode": {
    "name": "ipython",
    "version": 3
   },
   "file_extension": ".py",
   "mimetype": "text/x-python",
   "name": "python",
   "nbconvert_exporter": "python",
   "pygments_lexer": "ipython3",
   "version": "3.8.8"
  }
 },
 "nbformat": 4,
 "nbformat_minor": 5
}
