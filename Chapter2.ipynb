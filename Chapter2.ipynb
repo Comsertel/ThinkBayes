{
 "cells": [
  {
   "cell_type": "code",
   "execution_count": 1,
   "id": "5be13ca8",
   "metadata": {},
   "outputs": [],
   "source": [
    "import pandas as pd"
   ]
  },
  {
   "cell_type": "markdown",
   "id": "3bf31aee",
   "metadata": {},
   "source": [
    "### The Cookie Problem\n",
    "\n",
    "* Bowl 1 contains 30 vanilla cookies and 10 chocolate cookies.\n",
    "* Bowl 2 contains 20 vanilla cookies and 20 chocolate cookies.\n",
    "\n",
    "Now suppose you choose one of the bowls at random and, without looking, choose a cookie at random. If the cookie is vanilla, what is the probability that it came from Bowl 1?"
   ]
  },
  {
   "cell_type": "code",
   "execution_count": 2,
   "id": "b15dfe82",
   "metadata": {},
   "outputs": [],
   "source": [
    "cookies = []\n",
    "#Pote 1\n",
    "for i in range(40):\n",
    "  if i < 30:\n",
    "    cookies.append((1,'baunilha'))\n",
    "  else:\n",
    "    cookies.append((1,'chocolate'))\n",
    "\n",
    "\n",
    "#Pote 2\n",
    "for i in range(40):\n",
    "  if i < 20:\n",
    "    cookies.append((2,'baunilha'))\n",
    "  else:\n",
    "    cookies.append((2,'chocolate'))\n",
    "\n",
    "df = pd.DataFrame(cookies, columns=['pote','sabor'])"
   ]
  },
  {
   "cell_type": "code",
   "execution_count": 13,
   "id": "cbc48e31",
   "metadata": {},
   "outputs": [
    {
     "data": {
      "text/plain": [
       "0.5"
      ]
     },
     "execution_count": 13,
     "metadata": {},
     "output_type": "execute_result"
    }
   ],
   "source": [
    "#Chance de ser o Pote1 \n",
    "pote1 = df.pote == 1\n",
    "pote2 = df.pote == 2\n",
    "\n",
    "pote1.mean()"
   ]
  },
  {
   "cell_type": "code",
   "execution_count": 10,
   "id": "fa8a79f4",
   "metadata": {},
   "outputs": [
    {
     "data": {
      "text/plain": [
       "0.625"
      ]
     },
     "execution_count": 10,
     "metadata": {},
     "output_type": "execute_result"
    }
   ],
   "source": [
    "#Chance de ser de baunilha\n",
    "baunilha = df.sabor == 'baunilha'\n",
    "baunilha.mean()\n"
   ]
  },
  {
   "cell_type": "code",
   "execution_count": 11,
   "id": "96f59097",
   "metadata": {},
   "outputs": [
    {
     "data": {
      "text/plain": [
       "0.375"
      ]
     },
     "execution_count": 11,
     "metadata": {},
     "output_type": "execute_result"
    }
   ],
   "source": [
    "#Chance de ser de baunilha e do pote1\n",
    "(pote1 & baunilha).mean()"
   ]
  },
  {
   "cell_type": "code",
   "execution_count": 15,
   "id": "ed9025c9",
   "metadata": {},
   "outputs": [
    {
     "data": {
      "text/plain": [
       "0.6"
      ]
     },
     "execution_count": 15,
     "metadata": {},
     "output_type": "execute_result"
    }
   ],
   "source": [
    "#Do jeito que está escrito, acredito que esta seja a resposta.\n",
    "pote1[baunilha].mean()"
   ]
  },
  {
   "cell_type": "code",
   "execution_count": null,
   "id": "49b4ea69",
   "metadata": {},
   "outputs": [],
   "source": [
    "#Usando o theorema da bayes\n"
   ]
  },
  {
   "cell_type": "code",
   "execution_count": 18,
   "id": "9f90de8f",
   "metadata": {},
   "outputs": [
    {
     "data": {
      "text/plain": [
       "0.5"
      ]
     },
     "execution_count": 18,
     "metadata": {},
     "output_type": "execute_result"
    }
   ],
   "source": [
    "pote1.mean()"
   ]
  },
  {
   "cell_type": "code",
   "execution_count": 19,
   "id": "c4213628",
   "metadata": {},
   "outputs": [
    {
     "data": {
      "text/plain": [
       "0.75"
      ]
     },
     "execution_count": 19,
     "metadata": {},
     "output_type": "execute_result"
    }
   ],
   "source": []
  },
  {
   "cell_type": "code",
   "execution_count": null,
   "id": "d6911198",
   "metadata": {},
   "outputs": [],
   "source": []
  }
 ],
 "metadata": {
  "kernelspec": {
   "display_name": "Python 3",
   "language": "python",
   "name": "python3"
  },
  "language_info": {
   "codemirror_mode": {
    "name": "ipython",
    "version": 3
   },
   "file_extension": ".py",
   "mimetype": "text/x-python",
   "name": "python",
   "nbconvert_exporter": "python",
   "pygments_lexer": "ipython3",
   "version": "3.8.8"
  }
 },
 "nbformat": 4,
 "nbformat_minor": 5
}
